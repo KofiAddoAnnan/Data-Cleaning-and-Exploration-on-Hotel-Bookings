{
 "cells": [
  {
   "cell_type": "markdown",
   "id": "013ea0a2",
   "metadata": {},
   "source": [
    "# DATA CLEANING -  HOTEL BOOKINGS"
   ]
  },
  {
   "cell_type": "markdown",
   "id": "4a643441",
   "metadata": {},
   "source": [
    "The Hotel Bookings dataset contains the booking details of two hotels; City Hotel and Resort Hotel. \n",
    "\n",
    "    \n",
    "Let us performing an exploratory Data Analysis on the Hotel Bookings Dataset, to gain insights and identify some common trends. "
   ]
  },
  {
   "cell_type": "code",
   "execution_count": 1,
   "id": "7bb61fb9",
   "metadata": {},
   "outputs": [],
   "source": [
    "#### import your necessary libararies"
   ]
  },
  {
   "cell_type": "code",
   "execution_count": 2,
   "id": "995426f0",
   "metadata": {},
   "outputs": [],
   "source": [
    "import pandas as pd\n",
    "import matplotlib.pyplot as plt\n",
    "import seaborn as sns"
   ]
  },
  {
   "cell_type": "code",
   "execution_count": 3,
   "id": "d5d9cabb",
   "metadata": {},
   "outputs": [],
   "source": [
    "### Read your dataset"
   ]
  },
  {
   "cell_type": "code",
   "execution_count": 4,
   "id": "2c39e9db",
   "metadata": {},
   "outputs": [],
   "source": [
    "hotel_bookings = pd.read_csv(r'C:\\Users\\user\\Desktop\\Desktop\\Machine Learning Codes\\Assignment_Data Cleaning and Exploration\\hotel_bookings.csv')"
   ]
  },
  {
   "cell_type": "code",
   "execution_count": 5,
   "id": "1d53d4d3",
   "metadata": {},
   "outputs": [
    {
     "data": {
      "text/html": [
       "<div>\n",
       "<style scoped>\n",
       "    .dataframe tbody tr th:only-of-type {\n",
       "        vertical-align: middle;\n",
       "    }\n",
       "\n",
       "    .dataframe tbody tr th {\n",
       "        vertical-align: top;\n",
       "    }\n",
       "\n",
       "    .dataframe thead th {\n",
       "        text-align: right;\n",
       "    }\n",
       "</style>\n",
       "<table border=\"1\" class=\"dataframe\">\n",
       "  <thead>\n",
       "    <tr style=\"text-align: right;\">\n",
       "      <th></th>\n",
       "      <th>hotel</th>\n",
       "      <th>is_canceled</th>\n",
       "      <th>arrival_date_year</th>\n",
       "      <th>arrival_date_month</th>\n",
       "      <th>arrival_date_day</th>\n",
       "      <th>country</th>\n",
       "      <th>market_segment</th>\n",
       "      <th>is_repeated_guest</th>\n",
       "      <th>previous_cancellations</th>\n",
       "      <th>reservation_status</th>\n",
       "    </tr>\n",
       "  </thead>\n",
       "  <tbody>\n",
       "    <tr>\n",
       "      <th>0</th>\n",
       "      <td>Resort Hotel</td>\n",
       "      <td>0</td>\n",
       "      <td>2015</td>\n",
       "      <td>July</td>\n",
       "      <td>1</td>\n",
       "      <td>PRT</td>\n",
       "      <td>Direct</td>\n",
       "      <td>0</td>\n",
       "      <td>0</td>\n",
       "      <td>Check-Out</td>\n",
       "    </tr>\n",
       "    <tr>\n",
       "      <th>1</th>\n",
       "      <td>Resort Hotel</td>\n",
       "      <td>0</td>\n",
       "      <td>2015</td>\n",
       "      <td>July</td>\n",
       "      <td>1</td>\n",
       "      <td>PRT</td>\n",
       "      <td>Direct</td>\n",
       "      <td>0</td>\n",
       "      <td>0</td>\n",
       "      <td>Check-Out</td>\n",
       "    </tr>\n",
       "    <tr>\n",
       "      <th>2</th>\n",
       "      <td>Resort Hotel</td>\n",
       "      <td>0</td>\n",
       "      <td>2015</td>\n",
       "      <td>July</td>\n",
       "      <td>1</td>\n",
       "      <td>GBR</td>\n",
       "      <td>Direct</td>\n",
       "      <td>0</td>\n",
       "      <td>0</td>\n",
       "      <td>Check-Out</td>\n",
       "    </tr>\n",
       "    <tr>\n",
       "      <th>3</th>\n",
       "      <td>Resort Hotel</td>\n",
       "      <td>0</td>\n",
       "      <td>2015</td>\n",
       "      <td>July</td>\n",
       "      <td>1</td>\n",
       "      <td>GBR</td>\n",
       "      <td>Corporate</td>\n",
       "      <td>0</td>\n",
       "      <td>0</td>\n",
       "      <td>Check-Out</td>\n",
       "    </tr>\n",
       "    <tr>\n",
       "      <th>4</th>\n",
       "      <td>Resort Hotel</td>\n",
       "      <td>0</td>\n",
       "      <td>2015</td>\n",
       "      <td>July</td>\n",
       "      <td>1</td>\n",
       "      <td>GBR</td>\n",
       "      <td>Online TA</td>\n",
       "      <td>0</td>\n",
       "      <td>0</td>\n",
       "      <td>Check-Out</td>\n",
       "    </tr>\n",
       "  </tbody>\n",
       "</table>\n",
       "</div>"
      ],
      "text/plain": [
       "          hotel  is_canceled  arrival_date_year arrival_date_month  \\\n",
       "0  Resort Hotel            0               2015               July   \n",
       "1  Resort Hotel            0               2015               July   \n",
       "2  Resort Hotel            0               2015               July   \n",
       "3  Resort Hotel            0               2015               July   \n",
       "4  Resort Hotel            0               2015               July   \n",
       "\n",
       "   arrival_date_day country market_segment  is_repeated_guest  \\\n",
       "0                 1     PRT         Direct                  0   \n",
       "1                 1     PRT         Direct                  0   \n",
       "2                 1     GBR         Direct                  0   \n",
       "3                 1     GBR      Corporate                  0   \n",
       "4                 1     GBR      Online TA                  0   \n",
       "\n",
       "   previous_cancellations reservation_status  \n",
       "0                       0          Check-Out  \n",
       "1                       0          Check-Out  \n",
       "2                       0          Check-Out  \n",
       "3                       0          Check-Out  \n",
       "4                       0          Check-Out  "
      ]
     },
     "execution_count": 5,
     "metadata": {},
     "output_type": "execute_result"
    }
   ],
   "source": [
    "hotel_bookings.head()"
   ]
  },
  {
   "cell_type": "code",
   "execution_count": 6,
   "id": "c23825c9",
   "metadata": {},
   "outputs": [
    {
     "data": {
      "text/plain": [
       "(119390, 10)"
      ]
     },
     "execution_count": 6,
     "metadata": {},
     "output_type": "execute_result"
    }
   ],
   "source": [
    "hotel_bookings.shape"
   ]
  },
  {
   "cell_type": "code",
   "execution_count": 7,
   "id": "a59f131b",
   "metadata": {},
   "outputs": [
    {
     "data": {
      "text/plain": [
       "Index(['hotel', 'is_canceled', 'arrival_date_year', 'arrival_date_month',\n",
       "       'arrival_date_day', 'country', 'market_segment', 'is_repeated_guest',\n",
       "       'previous_cancellations', 'reservation_status'],\n",
       "      dtype='object')"
      ]
     },
     "execution_count": 7,
     "metadata": {},
     "output_type": "execute_result"
    }
   ],
   "source": [
    "hotel_bookings.columns"
   ]
  },
  {
   "cell_type": "code",
   "execution_count": 8,
   "id": "1ae94b3e",
   "metadata": {},
   "outputs": [
    {
     "data": {
      "text/plain": [
       "hotel                       0\n",
       "is_canceled                 0\n",
       "arrival_date_year           0\n",
       "arrival_date_month          0\n",
       "arrival_date_day            0\n",
       "country                   488\n",
       "market_segment              0\n",
       "is_repeated_guest           0\n",
       "previous_cancellations      0\n",
       "reservation_status          0\n",
       "dtype: int64"
      ]
     },
     "execution_count": 8,
     "metadata": {},
     "output_type": "execute_result"
    }
   ],
   "source": [
    "hotel_bookings.isnull().sum()"
   ]
  },
  {
   "cell_type": "code",
   "execution_count": null,
   "id": "1ab57a5a",
   "metadata": {},
   "outputs": [],
   "source": []
  },
  {
   "cell_type": "code",
   "execution_count": null,
   "id": "ad584bd1",
   "metadata": {},
   "outputs": [],
   "source": []
  },
  {
   "cell_type": "markdown",
   "id": "a11f4859",
   "metadata": {},
   "source": [
    "# Q1a.   \n",
    "How many bookings do we have in our data?\n",
    "\n",
    "# Q1b. \n",
    "\n",
    " Show the hotel with the highest number of bookings  on an appropriate chart."
   ]
  },
  {
   "cell_type": "code",
   "execution_count": 9,
   "id": "97809392",
   "metadata": {},
   "outputs": [
    {
     "data": {
      "text/html": [
       "<div>\n",
       "<style scoped>\n",
       "    .dataframe tbody tr th:only-of-type {\n",
       "        vertical-align: middle;\n",
       "    }\n",
       "\n",
       "    .dataframe tbody tr th {\n",
       "        vertical-align: top;\n",
       "    }\n",
       "\n",
       "    .dataframe thead th {\n",
       "        text-align: right;\n",
       "    }\n",
       "</style>\n",
       "<table border=\"1\" class=\"dataframe\">\n",
       "  <thead>\n",
       "    <tr style=\"text-align: right;\">\n",
       "      <th></th>\n",
       "      <th>hotel</th>\n",
       "      <th>is_canceled</th>\n",
       "      <th>arrival_date_year</th>\n",
       "      <th>arrival_date_month</th>\n",
       "      <th>arrival_date_day</th>\n",
       "      <th>country</th>\n",
       "      <th>market_segment</th>\n",
       "      <th>is_repeated_guest</th>\n",
       "      <th>previous_cancellations</th>\n",
       "      <th>reservation_status</th>\n",
       "    </tr>\n",
       "  </thead>\n",
       "  <tbody>\n",
       "    <tr>\n",
       "      <th>0</th>\n",
       "      <td>Resort Hotel</td>\n",
       "      <td>0</td>\n",
       "      <td>2015</td>\n",
       "      <td>July</td>\n",
       "      <td>1</td>\n",
       "      <td>PRT</td>\n",
       "      <td>Direct</td>\n",
       "      <td>0</td>\n",
       "      <td>0</td>\n",
       "      <td>Check-Out</td>\n",
       "    </tr>\n",
       "    <tr>\n",
       "      <th>1</th>\n",
       "      <td>Resort Hotel</td>\n",
       "      <td>0</td>\n",
       "      <td>2015</td>\n",
       "      <td>July</td>\n",
       "      <td>1</td>\n",
       "      <td>PRT</td>\n",
       "      <td>Direct</td>\n",
       "      <td>0</td>\n",
       "      <td>0</td>\n",
       "      <td>Check-Out</td>\n",
       "    </tr>\n",
       "    <tr>\n",
       "      <th>2</th>\n",
       "      <td>Resort Hotel</td>\n",
       "      <td>0</td>\n",
       "      <td>2015</td>\n",
       "      <td>July</td>\n",
       "      <td>1</td>\n",
       "      <td>GBR</td>\n",
       "      <td>Direct</td>\n",
       "      <td>0</td>\n",
       "      <td>0</td>\n",
       "      <td>Check-Out</td>\n",
       "    </tr>\n",
       "    <tr>\n",
       "      <th>3</th>\n",
       "      <td>Resort Hotel</td>\n",
       "      <td>0</td>\n",
       "      <td>2015</td>\n",
       "      <td>July</td>\n",
       "      <td>1</td>\n",
       "      <td>GBR</td>\n",
       "      <td>Corporate</td>\n",
       "      <td>0</td>\n",
       "      <td>0</td>\n",
       "      <td>Check-Out</td>\n",
       "    </tr>\n",
       "    <tr>\n",
       "      <th>4</th>\n",
       "      <td>Resort Hotel</td>\n",
       "      <td>0</td>\n",
       "      <td>2015</td>\n",
       "      <td>July</td>\n",
       "      <td>1</td>\n",
       "      <td>GBR</td>\n",
       "      <td>Online TA</td>\n",
       "      <td>0</td>\n",
       "      <td>0</td>\n",
       "      <td>Check-Out</td>\n",
       "    </tr>\n",
       "  </tbody>\n",
       "</table>\n",
       "</div>"
      ],
      "text/plain": [
       "          hotel  is_canceled  arrival_date_year arrival_date_month  \\\n",
       "0  Resort Hotel            0               2015               July   \n",
       "1  Resort Hotel            0               2015               July   \n",
       "2  Resort Hotel            0               2015               July   \n",
       "3  Resort Hotel            0               2015               July   \n",
       "4  Resort Hotel            0               2015               July   \n",
       "\n",
       "   arrival_date_day country market_segment  is_repeated_guest  \\\n",
       "0                 1     PRT         Direct                  0   \n",
       "1                 1     PRT         Direct                  0   \n",
       "2                 1     GBR         Direct                  0   \n",
       "3                 1     GBR      Corporate                  0   \n",
       "4                 1     GBR      Online TA                  0   \n",
       "\n",
       "   previous_cancellations reservation_status  \n",
       "0                       0          Check-Out  \n",
       "1                       0          Check-Out  \n",
       "2                       0          Check-Out  \n",
       "3                       0          Check-Out  \n",
       "4                       0          Check-Out  "
      ]
     },
     "execution_count": 9,
     "metadata": {},
     "output_type": "execute_result"
    }
   ],
   "source": [
    "hotel_bookings.head()"
   ]
  },
  {
   "cell_type": "code",
   "execution_count": 10,
   "id": "577f3e46",
   "metadata": {},
   "outputs": [
    {
     "data": {
      "text/plain": [
       "hotel                       0\n",
       "is_canceled                 0\n",
       "arrival_date_year           0\n",
       "arrival_date_month          0\n",
       "arrival_date_day            0\n",
       "country                   488\n",
       "market_segment              0\n",
       "is_repeated_guest           0\n",
       "previous_cancellations      0\n",
       "reservation_status          0\n",
       "dtype: int64"
      ]
     },
     "execution_count": 10,
     "metadata": {},
     "output_type": "execute_result"
    }
   ],
   "source": [
    "hotel_bookings.isnull().sum()"
   ]
  },
  {
   "cell_type": "code",
   "execution_count": 11,
   "id": "fefba9f2",
   "metadata": {},
   "outputs": [
    {
     "data": {
      "text/plain": [
       "(119390, 10)"
      ]
     },
     "execution_count": 11,
     "metadata": {},
     "output_type": "execute_result"
    }
   ],
   "source": [
    "hotel_bookings.shape"
   ]
  },
  {
   "cell_type": "markdown",
   "id": "03acda2a",
   "metadata": {},
   "source": [
    "Answering Q1(a), since there are no null cells in any of the columns except country, the total number of bookings corresponds with the shape of the dataset. Meaning all the 119390 columns are filled therefore representing the total number of bookings."
   ]
  },
  {
   "cell_type": "markdown",
   "id": "e03c454c",
   "metadata": {},
   "source": [
    "Again on Q1(a), I can do this by using the .value_counts() function on any of the non-null columns to confirm the answer. "
   ]
  },
  {
   "cell_type": "code",
   "execution_count": 12,
   "id": "27f828ac",
   "metadata": {},
   "outputs": [
    {
     "data": {
      "text/plain": [
       "City Hotel      79330\n",
       "Resort Hotel    40060\n",
       "Name: hotel, dtype: int64"
      ]
     },
     "execution_count": 12,
     "metadata": {},
     "output_type": "execute_result"
    }
   ],
   "source": [
    "hotel_bookings['hotel'].value_counts()"
   ]
  },
  {
   "cell_type": "markdown",
   "id": "fa90e965",
   "metadata": {},
   "source": [
    "Summing the values for City Hotel and Resort Hotel confirms that there was 119390 total number of bookings."
   ]
  },
  {
   "cell_type": "code",
   "execution_count": null,
   "id": "e2c48069",
   "metadata": {},
   "outputs": [],
   "source": []
  },
  {
   "cell_type": "code",
   "execution_count": 13,
   "id": "ea93b05b",
   "metadata": {},
   "outputs": [
    {
     "data": {
      "text/plain": [
       "City Hotel      79330\n",
       "Resort Hotel    40060\n",
       "Name: hotel, dtype: int64"
      ]
     },
     "execution_count": 13,
     "metadata": {},
     "output_type": "execute_result"
    }
   ],
   "source": [
    "hotel_bookings['hotel'].value_counts()"
   ]
  },
  {
   "cell_type": "markdown",
   "id": "cafd9746",
   "metadata": {},
   "source": [
    "From the above, it can be concluded that City Hotel recorded the highest number of bookings."
   ]
  },
  {
   "cell_type": "markdown",
   "id": "3757859c",
   "metadata": {},
   "source": [
    "# Showing this on an appropriate chart:"
   ]
  },
  {
   "cell_type": "code",
   "execution_count": 14,
   "id": "67d681d0",
   "metadata": {},
   "outputs": [
    {
     "data": {
      "text/plain": [
       "<Axes: title={'center': 'A Pie Chart of Hotel Bookings'}, ylabel='hotel'>"
      ]
     },
     "execution_count": 14,
     "metadata": {},
     "output_type": "execute_result"
    },
    {
     "data": {
      "image/png": "[encoded data removed]",
      "text/plain": [
       "<Figure size 640x480 with 1 Axes>"
      ]
     },
     "metadata": {},
     "output_type": "display_data"
    }
   ],
   "source": [
    "hotel_bookings['hotel'].value_counts().plot(kind ='pie', autopct = '%1.1f%%', title = 'A Pie Chart of Hotel Bookings')"
   ]
  },
  {
   "cell_type": "code",
   "execution_count": null,
   "id": "ef3f8f62",
   "metadata": {},
   "outputs": [],
   "source": []
  },
  {
   "cell_type": "code",
   "execution_count": null,
   "id": "b7a840f5",
   "metadata": {},
   "outputs": [],
   "source": []
  },
  {
   "cell_type": "code",
   "execution_count": null,
   "id": "eae28338",
   "metadata": {},
   "outputs": [],
   "source": []
  },
  {
   "cell_type": "markdown",
   "id": "2d21afb7",
   "metadata": {},
   "source": [
    "# 2. Cleaning\n",
    "\n",
    "### \"is_canceled\" column shows whether a booking was cancelled or not\n",
    "\n",
    "### It has values as 0 or 1. Change this to a \"No\" or \"Yes\" respectively to make more meaning\n",
    "\n",
    "NB -- If the column type is numerical, it has to be converted to a string before replacing the values.\n",
    "\n",
    "This is done with .astype(str)"
   ]
  },
  {
   "cell_type": "code",
   "execution_count": 15,
   "id": "616c9bb6",
   "metadata": {
    "scrolled": true
   },
   "outputs": [
    {
     "data": {
      "text/html": [
       "<div>\n",
       "<style scoped>\n",
       "    .dataframe tbody tr th:only-of-type {\n",
       "        vertical-align: middle;\n",
       "    }\n",
       "\n",
       "    .dataframe tbody tr th {\n",
       "        vertical-align: top;\n",
       "    }\n",
       "\n",
       "    .dataframe thead th {\n",
       "        text-align: right;\n",
       "    }\n",
       "</style>\n",
       "<table border=\"1\" class=\"dataframe\">\n",
       "  <thead>\n",
       "    <tr style=\"text-align: right;\">\n",
       "      <th></th>\n",
       "      <th>hotel</th>\n",
       "      <th>is_canceled</th>\n",
       "      <th>arrival_date_year</th>\n",
       "      <th>arrival_date_month</th>\n",
       "      <th>arrival_date_day</th>\n",
       "      <th>country</th>\n",
       "      <th>market_segment</th>\n",
       "      <th>is_repeated_guest</th>\n",
       "      <th>previous_cancellations</th>\n",
       "      <th>reservation_status</th>\n",
       "    </tr>\n",
       "  </thead>\n",
       "  <tbody>\n",
       "    <tr>\n",
       "      <th>0</th>\n",
       "      <td>Resort Hotel</td>\n",
       "      <td>0</td>\n",
       "      <td>2015</td>\n",
       "      <td>July</td>\n",
       "      <td>1</td>\n",
       "      <td>PRT</td>\n",
       "      <td>Direct</td>\n",
       "      <td>0</td>\n",
       "      <td>0</td>\n",
       "      <td>Check-Out</td>\n",
       "    </tr>\n",
       "    <tr>\n",
       "      <th>1</th>\n",
       "      <td>Resort Hotel</td>\n",
       "      <td>0</td>\n",
       "      <td>2015</td>\n",
       "      <td>July</td>\n",
       "      <td>1</td>\n",
       "      <td>PRT</td>\n",
       "      <td>Direct</td>\n",
       "      <td>0</td>\n",
       "      <td>0</td>\n",
       "      <td>Check-Out</td>\n",
       "    </tr>\n",
       "    <tr>\n",
       "      <th>2</th>\n",
       "      <td>Resort Hotel</td>\n",
       "      <td>0</td>\n",
       "      <td>2015</td>\n",
       "      <td>July</td>\n",
       "      <td>1</td>\n",
       "      <td>GBR</td>\n",
       "      <td>Direct</td>\n",
       "      <td>0</td>\n",
       "      <td>0</td>\n",
       "      <td>Check-Out</td>\n",
       "    </tr>\n",
       "    <tr>\n",
       "      <th>3</th>\n",
       "      <td>Resort Hotel</td>\n",
       "      <td>0</td>\n",
       "      <td>2015</td>\n",
       "      <td>July</td>\n",
       "      <td>1</td>\n",
       "      <td>GBR</td>\n",
       "      <td>Corporate</td>\n",
       "      <td>0</td>\n",
       "      <td>0</td>\n",
       "      <td>Check-Out</td>\n",
       "    </tr>\n",
       "    <tr>\n",
       "      <th>4</th>\n",
       "      <td>Resort Hotel</td>\n",
       "      <td>0</td>\n",
       "      <td>2015</td>\n",
       "      <td>July</td>\n",
       "      <td>1</td>\n",
       "      <td>GBR</td>\n",
       "      <td>Online TA</td>\n",
       "      <td>0</td>\n",
       "      <td>0</td>\n",
       "      <td>Check-Out</td>\n",
       "    </tr>\n",
       "  </tbody>\n",
       "</table>\n",
       "</div>"
      ],
      "text/plain": [
       "          hotel  is_canceled  arrival_date_year arrival_date_month  \\\n",
       "0  Resort Hotel            0               2015               July   \n",
       "1  Resort Hotel            0               2015               July   \n",
       "2  Resort Hotel            0               2015               July   \n",
       "3  Resort Hotel            0               2015               July   \n",
       "4  Resort Hotel            0               2015               July   \n",
       "\n",
       "   arrival_date_day country market_segment  is_repeated_guest  \\\n",
       "0                 1     PRT         Direct                  0   \n",
       "1                 1     PRT         Direct                  0   \n",
       "2                 1     GBR         Direct                  0   \n",
       "3                 1     GBR      Corporate                  0   \n",
       "4                 1     GBR      Online TA                  0   \n",
       "\n",
       "   previous_cancellations reservation_status  \n",
       "0                       0          Check-Out  \n",
       "1                       0          Check-Out  \n",
       "2                       0          Check-Out  \n",
       "3                       0          Check-Out  \n",
       "4                       0          Check-Out  "
      ]
     },
     "execution_count": 15,
     "metadata": {},
     "output_type": "execute_result"
    }
   ],
   "source": [
    "hotel_bookings.head()"
   ]
  },
  {
   "cell_type": "code",
   "execution_count": 16,
   "id": "4d89068f",
   "metadata": {},
   "outputs": [
    {
     "data": {
      "text/plain": [
       "0         0\n",
       "1         0\n",
       "2         0\n",
       "3         0\n",
       "4         0\n",
       "         ..\n",
       "119385    0\n",
       "119386    0\n",
       "119387    0\n",
       "119388    0\n",
       "119389    0\n",
       "Name: is_canceled, Length: 119390, dtype: int64"
      ]
     },
     "execution_count": 16,
     "metadata": {},
     "output_type": "execute_result"
    }
   ],
   "source": [
    "#Checking the data type of the 'is_canceled' column\n",
    "hotel_bookings['is_canceled']"
   ]
  },
  {
   "cell_type": "markdown",
   "id": "8e27ff95",
   "metadata": {},
   "source": [
    "It is observed that the 'is_canceled' column has a data type (int) "
   ]
  },
  {
   "cell_type": "code",
   "execution_count": 17,
   "id": "822fd8ed",
   "metadata": {},
   "outputs": [],
   "source": [
    "#Convert the 'is_canceled' column to a string in order to make any necessary changes to the column. For example .str.replace() function.\n",
    "hotel_bookings['is_canceled'] = hotel_bookings['is_canceled'].astype(str)"
   ]
  },
  {
   "cell_type": "code",
   "execution_count": 18,
   "id": "46bd7517",
   "metadata": {},
   "outputs": [
    {
     "data": {
      "text/plain": [
       "0         0\n",
       "1         0\n",
       "2         0\n",
       "3         0\n",
       "4         0\n",
       "         ..\n",
       "119385    0\n",
       "119386    0\n",
       "119387    0\n",
       "119388    0\n",
       "119389    0\n",
       "Name: is_canceled, Length: 119390, dtype: object"
      ]
     },
     "execution_count": 18,
     "metadata": {},
     "output_type": "execute_result"
    }
   ],
   "source": [
    "#Verify the above code with accessing the data type of the column again\n",
    "hotel_bookings['is_canceled']"
   ]
  },
  {
   "cell_type": "markdown",
   "id": "449704ee",
   "metadata": {},
   "source": [
    "Now it is observed that the data type changed to object implying the column components are now strings. We can go ahead to make necessary changes."
   ]
  },
  {
   "cell_type": "code",
   "execution_count": 19,
   "id": "b574b8ad",
   "metadata": {},
   "outputs": [],
   "source": [
    "#Firtly, I am converting all '0s' to 'NOs'\n",
    "hotel_bookings['is_canceled'] = hotel_bookings['is_canceled'].str.replace('0','No')"
   ]
  },
  {
   "cell_type": "code",
   "execution_count": 20,
   "id": "1fd28d24",
   "metadata": {},
   "outputs": [],
   "source": [
    "#Secondly, I am converting all '1s' to 'Yes'\n",
    "hotel_bookings['is_canceled'] = hotel_bookings['is_canceled'].str.replace('1','Yes')"
   ]
  },
  {
   "cell_type": "code",
   "execution_count": 21,
   "id": "0f06b88e",
   "metadata": {},
   "outputs": [
    {
     "data": {
      "text/plain": [
       "0         No\n",
       "1         No\n",
       "2         No\n",
       "3         No\n",
       "4         No\n",
       "          ..\n",
       "119385    No\n",
       "119386    No\n",
       "119387    No\n",
       "119388    No\n",
       "119389    No\n",
       "Name: is_canceled, Length: 119390, dtype: object"
      ]
     },
     "execution_count": 21,
     "metadata": {},
     "output_type": "execute_result"
    }
   ],
   "source": [
    "#Print the 'is_canceled' column to confirm the answer\n",
    "hotel_bookings['is_canceled']"
   ]
  },
  {
   "cell_type": "code",
   "execution_count": 22,
   "id": "f186ca07",
   "metadata": {},
   "outputs": [
    {
     "data": {
      "text/plain": [
       "No     75166\n",
       "Yes    44224\n",
       "Name: is_canceled, dtype: int64"
      ]
     },
     "execution_count": 22,
     "metadata": {},
     "output_type": "execute_result"
    }
   ],
   "source": [
    "#If I want to know the number of 'Yes' and 'Nos' in the column, I could use the .value_counts() function or if I want to know the elements present the .unique() function will be appropriate.\n",
    "hotel_bookings['is_canceled'].value_counts()"
   ]
  },
  {
   "cell_type": "code",
   "execution_count": null,
   "id": "75332ff9",
   "metadata": {},
   "outputs": [],
   "source": []
  },
  {
   "cell_type": "code",
   "execution_count": null,
   "id": "37762a8f",
   "metadata": {},
   "outputs": [],
   "source": []
  },
  {
   "cell_type": "markdown",
   "id": "c6152f34",
   "metadata": {},
   "source": [
    "# Question 3\n",
    "\n",
    "This data spans 3 years (2015 - 2017)\n",
    "\n",
    "Show these years in order of when the hotels actually received or welcomed the most guests."
   ]
  },
  {
   "cell_type": "code",
   "execution_count": 23,
   "id": "e6893ecb",
   "metadata": {},
   "outputs": [
    {
     "data": {
      "text/html": [
       "<div>\n",
       "<style scoped>\n",
       "    .dataframe tbody tr th:only-of-type {\n",
       "        vertical-align: middle;\n",
       "    }\n",
       "\n",
       "    .dataframe tbody tr th {\n",
       "        vertical-align: top;\n",
       "    }\n",
       "\n",
       "    .dataframe thead th {\n",
       "        text-align: right;\n",
       "    }\n",
       "</style>\n",
       "<table border=\"1\" class=\"dataframe\">\n",
       "  <thead>\n",
       "    <tr style=\"text-align: right;\">\n",
       "      <th></th>\n",
       "      <th>hotel</th>\n",
       "      <th>is_canceled</th>\n",
       "      <th>arrival_date_year</th>\n",
       "      <th>arrival_date_month</th>\n",
       "      <th>arrival_date_day</th>\n",
       "      <th>country</th>\n",
       "      <th>market_segment</th>\n",
       "      <th>is_repeated_guest</th>\n",
       "      <th>previous_cancellations</th>\n",
       "      <th>reservation_status</th>\n",
       "    </tr>\n",
       "  </thead>\n",
       "  <tbody>\n",
       "    <tr>\n",
       "      <th>0</th>\n",
       "      <td>Resort Hotel</td>\n",
       "      <td>No</td>\n",
       "      <td>2015</td>\n",
       "      <td>July</td>\n",
       "      <td>1</td>\n",
       "      <td>PRT</td>\n",
       "      <td>Direct</td>\n",
       "      <td>0</td>\n",
       "      <td>0</td>\n",
       "      <td>Check-Out</td>\n",
       "    </tr>\n",
       "    <tr>\n",
       "      <th>1</th>\n",
       "      <td>Resort Hotel</td>\n",
       "      <td>No</td>\n",
       "      <td>2015</td>\n",
       "      <td>July</td>\n",
       "      <td>1</td>\n",
       "      <td>PRT</td>\n",
       "      <td>Direct</td>\n",
       "      <td>0</td>\n",
       "      <td>0</td>\n",
       "      <td>Check-Out</td>\n",
       "    </tr>\n",
       "    <tr>\n",
       "      <th>2</th>\n",
       "      <td>Resort Hotel</td>\n",
       "      <td>No</td>\n",
       "      <td>2015</td>\n",
       "      <td>July</td>\n",
       "      <td>1</td>\n",
       "      <td>GBR</td>\n",
       "      <td>Direct</td>\n",
       "      <td>0</td>\n",
       "      <td>0</td>\n",
       "      <td>Check-Out</td>\n",
       "    </tr>\n",
       "    <tr>\n",
       "      <th>3</th>\n",
       "      <td>Resort Hotel</td>\n",
       "      <td>No</td>\n",
       "      <td>2015</td>\n",
       "      <td>July</td>\n",
       "      <td>1</td>\n",
       "      <td>GBR</td>\n",
       "      <td>Corporate</td>\n",
       "      <td>0</td>\n",
       "      <td>0</td>\n",
       "      <td>Check-Out</td>\n",
       "    </tr>\n",
       "    <tr>\n",
       "      <th>4</th>\n",
       "      <td>Resort Hotel</td>\n",
       "      <td>No</td>\n",
       "      <td>2015</td>\n",
       "      <td>July</td>\n",
       "      <td>1</td>\n",
       "      <td>GBR</td>\n",
       "      <td>Online TA</td>\n",
       "      <td>0</td>\n",
       "      <td>0</td>\n",
       "      <td>Check-Out</td>\n",
       "    </tr>\n",
       "  </tbody>\n",
       "</table>\n",
       "</div>"
      ],
      "text/plain": [
       "          hotel is_canceled  arrival_date_year arrival_date_month  \\\n",
       "0  Resort Hotel          No               2015               July   \n",
       "1  Resort Hotel          No               2015               July   \n",
       "2  Resort Hotel          No               2015               July   \n",
       "3  Resort Hotel          No               2015               July   \n",
       "4  Resort Hotel          No               2015               July   \n",
       "\n",
       "   arrival_date_day country market_segment  is_repeated_guest  \\\n",
       "0                 1     PRT         Direct                  0   \n",
       "1                 1     PRT         Direct                  0   \n",
       "2                 1     GBR         Direct                  0   \n",
       "3                 1     GBR      Corporate                  0   \n",
       "4                 1     GBR      Online TA                  0   \n",
       "\n",
       "   previous_cancellations reservation_status  \n",
       "0                       0          Check-Out  \n",
       "1                       0          Check-Out  \n",
       "2                       0          Check-Out  \n",
       "3                       0          Check-Out  \n",
       "4                       0          Check-Out  "
      ]
     },
     "execution_count": 23,
     "metadata": {},
     "output_type": "execute_result"
    }
   ],
   "source": [
    "hotel_bookings.head()"
   ]
  },
  {
   "cell_type": "code",
   "execution_count": 24,
   "id": "5f763232",
   "metadata": {},
   "outputs": [
    {
     "data": {
      "text/plain": [
       "2016    56707\n",
       "2017    40687\n",
       "2015    21996\n",
       "Name: arrival_date_year, dtype: int64"
      ]
     },
     "execution_count": 24,
     "metadata": {},
     "output_type": "execute_result"
    }
   ],
   "source": [
    "#Use the .value_counts() function to determine which year received most guests.\n",
    "hotel_bookings['arrival_date_year'].value_counts()"
   ]
  },
  {
   "cell_type": "markdown",
   "id": "c27aae55",
   "metadata": {},
   "source": [
    "From the above analysis, it can be concluded that the year 2016 received most guests."
   ]
  },
  {
   "cell_type": "markdown",
   "id": "efb5fec4",
   "metadata": {},
   "source": [
    "# Representing this on a chart:"
   ]
  },
  {
   "cell_type": "code",
   "execution_count": 25,
   "id": "5b6bcad8",
   "metadata": {},
   "outputs": [
    {
     "data": {
      "text/plain": [
       "<Axes: title={'center': 'A Bar Graph of total number of Guests Received against the Years'}>"
      ]
     },
     "execution_count": 25,
     "metadata": {},
     "output_type": "execute_result"
    },
    {
     "data": {
      "image/png": "[encoded data removed]",
      "text/plain": [
       "<Figure size 640x480 with 1 Axes>"
      ]
     },
     "metadata": {},
     "output_type": "display_data"
    }
   ],
   "source": [
    "hotel_bookings['arrival_date_year'].value_counts().plot(kind = 'bar', title = 'A Bar Graph of total number of Guests Received against the Years')"
   ]
  },
  {
   "cell_type": "code",
   "execution_count": null,
   "id": "3175d3b7",
   "metadata": {},
   "outputs": [],
   "source": []
  },
  {
   "cell_type": "markdown",
   "id": "24af77f7",
   "metadata": {},
   "source": [
    "# Question 4\n",
    "\n",
    "It was observed that the highest number of **previous booking cancelations** are coming from a particular country or region.\n",
    "\n",
    "Explore this and tell us the country"
   ]
  },
  {
   "cell_type": "code",
   "execution_count": 26,
   "id": "106c4a23",
   "metadata": {},
   "outputs": [
    {
     "data": {
      "text/html": [
       "<div>\n",
       "<style scoped>\n",
       "    .dataframe tbody tr th:only-of-type {\n",
       "        vertical-align: middle;\n",
       "    }\n",
       "\n",
       "    .dataframe tbody tr th {\n",
       "        vertical-align: top;\n",
       "    }\n",
       "\n",
       "    .dataframe thead th {\n",
       "        text-align: right;\n",
       "    }\n",
       "</style>\n",
       "<table border=\"1\" class=\"dataframe\">\n",
       "  <thead>\n",
       "    <tr style=\"text-align: right;\">\n",
       "      <th></th>\n",
       "      <th>hotel</th>\n",
       "      <th>is_canceled</th>\n",
       "      <th>arrival_date_year</th>\n",
       "      <th>arrival_date_month</th>\n",
       "      <th>arrival_date_day</th>\n",
       "      <th>country</th>\n",
       "      <th>market_segment</th>\n",
       "      <th>is_repeated_guest</th>\n",
       "      <th>previous_cancellations</th>\n",
       "      <th>reservation_status</th>\n",
       "    </tr>\n",
       "  </thead>\n",
       "  <tbody>\n",
       "    <tr>\n",
       "      <th>0</th>\n",
       "      <td>Resort Hotel</td>\n",
       "      <td>No</td>\n",
       "      <td>2015</td>\n",
       "      <td>July</td>\n",
       "      <td>1</td>\n",
       "      <td>PRT</td>\n",
       "      <td>Direct</td>\n",
       "      <td>0</td>\n",
       "      <td>0</td>\n",
       "      <td>Check-Out</td>\n",
       "    </tr>\n",
       "    <tr>\n",
       "      <th>1</th>\n",
       "      <td>Resort Hotel</td>\n",
       "      <td>No</td>\n",
       "      <td>2015</td>\n",
       "      <td>July</td>\n",
       "      <td>1</td>\n",
       "      <td>PRT</td>\n",
       "      <td>Direct</td>\n",
       "      <td>0</td>\n",
       "      <td>0</td>\n",
       "      <td>Check-Out</td>\n",
       "    </tr>\n",
       "    <tr>\n",
       "      <th>2</th>\n",
       "      <td>Resort Hotel</td>\n",
       "      <td>No</td>\n",
       "      <td>2015</td>\n",
       "      <td>July</td>\n",
       "      <td>1</td>\n",
       "      <td>GBR</td>\n",
       "      <td>Direct</td>\n",
       "      <td>0</td>\n",
       "      <td>0</td>\n",
       "      <td>Check-Out</td>\n",
       "    </tr>\n",
       "    <tr>\n",
       "      <th>3</th>\n",
       "      <td>Resort Hotel</td>\n",
       "      <td>No</td>\n",
       "      <td>2015</td>\n",
       "      <td>July</td>\n",
       "      <td>1</td>\n",
       "      <td>GBR</td>\n",
       "      <td>Corporate</td>\n",
       "      <td>0</td>\n",
       "      <td>0</td>\n",
       "      <td>Check-Out</td>\n",
       "    </tr>\n",
       "    <tr>\n",
       "      <th>4</th>\n",
       "      <td>Resort Hotel</td>\n",
       "      <td>No</td>\n",
       "      <td>2015</td>\n",
       "      <td>July</td>\n",
       "      <td>1</td>\n",
       "      <td>GBR</td>\n",
       "      <td>Online TA</td>\n",
       "      <td>0</td>\n",
       "      <td>0</td>\n",
       "      <td>Check-Out</td>\n",
       "    </tr>\n",
       "  </tbody>\n",
       "</table>\n",
       "</div>"
      ],
      "text/plain": [
       "          hotel is_canceled  arrival_date_year arrival_date_month  \\\n",
       "0  Resort Hotel          No               2015               July   \n",
       "1  Resort Hotel          No               2015               July   \n",
       "2  Resort Hotel          No               2015               July   \n",
       "3  Resort Hotel          No               2015               July   \n",
       "4  Resort Hotel          No               2015               July   \n",
       "\n",
       "   arrival_date_day country market_segment  is_repeated_guest  \\\n",
       "0                 1     PRT         Direct                  0   \n",
       "1                 1     PRT         Direct                  0   \n",
       "2                 1     GBR         Direct                  0   \n",
       "3                 1     GBR      Corporate                  0   \n",
       "4                 1     GBR      Online TA                  0   \n",
       "\n",
       "   previous_cancellations reservation_status  \n",
       "0                       0          Check-Out  \n",
       "1                       0          Check-Out  \n",
       "2                       0          Check-Out  \n",
       "3                       0          Check-Out  \n",
       "4                       0          Check-Out  "
      ]
     },
     "execution_count": 26,
     "metadata": {},
     "output_type": "execute_result"
    }
   ],
   "source": [
    "hotel_bookings.head()"
   ]
  },
  {
   "cell_type": "code",
   "execution_count": 27,
   "id": "818badf5",
   "metadata": {},
   "outputs": [
    {
     "data": {
      "text/plain": [
       "array([ 0,  1,  2,  3, 26, 25, 14,  4, 24, 19,  5, 21,  6, 13, 11],\n",
       "      dtype=int64)"
      ]
     },
     "execution_count": 27,
     "metadata": {},
     "output_type": "execute_result"
    }
   ],
   "source": [
    "hotel_bookings['previous_cancellations'].unique()"
   ]
  },
  {
   "cell_type": "code",
   "execution_count": 28,
   "id": "d2b7b5c9",
   "metadata": {},
   "outputs": [
    {
     "data": {
      "text/plain": [
       "26"
      ]
     },
     "execution_count": 28,
     "metadata": {},
     "output_type": "execute_result"
    }
   ],
   "source": [
    "hotel_bookings['previous_cancellations'].max()"
   ]
  },
  {
   "cell_type": "code",
   "execution_count": 29,
   "id": "5ca278f6",
   "metadata": {},
   "outputs": [],
   "source": [
    "country_with_high_cancellations = hotel_bookings[hotel_bookings['previous_cancellations'] == 26]"
   ]
  },
  {
   "cell_type": "code",
   "execution_count": 30,
   "id": "a88617ad",
   "metadata": {},
   "outputs": [
    {
     "data": {
      "text/html": [
       "<div>\n",
       "<style scoped>\n",
       "    .dataframe tbody tr th:only-of-type {\n",
       "        vertical-align: middle;\n",
       "    }\n",
       "\n",
       "    .dataframe tbody tr th {\n",
       "        vertical-align: top;\n",
       "    }\n",
       "\n",
       "    .dataframe thead th {\n",
       "        text-align: right;\n",
       "    }\n",
       "</style>\n",
       "<table border=\"1\" class=\"dataframe\">\n",
       "  <thead>\n",
       "    <tr style=\"text-align: right;\">\n",
       "      <th></th>\n",
       "      <th>hotel</th>\n",
       "      <th>is_canceled</th>\n",
       "      <th>arrival_date_year</th>\n",
       "      <th>arrival_date_month</th>\n",
       "      <th>arrival_date_day</th>\n",
       "      <th>country</th>\n",
       "      <th>market_segment</th>\n",
       "      <th>is_repeated_guest</th>\n",
       "      <th>previous_cancellations</th>\n",
       "      <th>reservation_status</th>\n",
       "    </tr>\n",
       "  </thead>\n",
       "  <tbody>\n",
       "    <tr>\n",
       "      <th>14779</th>\n",
       "      <td>Resort Hotel</td>\n",
       "      <td>Yes</td>\n",
       "      <td>2015</td>\n",
       "      <td>October</td>\n",
       "      <td>4</td>\n",
       "      <td>PRT</td>\n",
       "      <td>Offline TA/TO</td>\n",
       "      <td>0</td>\n",
       "      <td>26</td>\n",
       "      <td>Canceled</td>\n",
       "    </tr>\n",
       "    <tr>\n",
       "      <th>14780</th>\n",
       "      <td>Resort Hotel</td>\n",
       "      <td>Yes</td>\n",
       "      <td>2015</td>\n",
       "      <td>October</td>\n",
       "      <td>4</td>\n",
       "      <td>PRT</td>\n",
       "      <td>Offline TA/TO</td>\n",
       "      <td>0</td>\n",
       "      <td>26</td>\n",
       "      <td>Canceled</td>\n",
       "    </tr>\n",
       "    <tr>\n",
       "      <th>14781</th>\n",
       "      <td>Resort Hotel</td>\n",
       "      <td>Yes</td>\n",
       "      <td>2015</td>\n",
       "      <td>October</td>\n",
       "      <td>4</td>\n",
       "      <td>PRT</td>\n",
       "      <td>Offline TA/TO</td>\n",
       "      <td>0</td>\n",
       "      <td>26</td>\n",
       "      <td>Canceled</td>\n",
       "    </tr>\n",
       "    <tr>\n",
       "      <th>14782</th>\n",
       "      <td>Resort Hotel</td>\n",
       "      <td>Yes</td>\n",
       "      <td>2015</td>\n",
       "      <td>October</td>\n",
       "      <td>4</td>\n",
       "      <td>PRT</td>\n",
       "      <td>Offline TA/TO</td>\n",
       "      <td>0</td>\n",
       "      <td>26</td>\n",
       "      <td>Canceled</td>\n",
       "    </tr>\n",
       "    <tr>\n",
       "      <th>14783</th>\n",
       "      <td>Resort Hotel</td>\n",
       "      <td>Yes</td>\n",
       "      <td>2015</td>\n",
       "      <td>October</td>\n",
       "      <td>4</td>\n",
       "      <td>PRT</td>\n",
       "      <td>Offline TA/TO</td>\n",
       "      <td>0</td>\n",
       "      <td>26</td>\n",
       "      <td>Canceled</td>\n",
       "    </tr>\n",
       "    <tr>\n",
       "      <th>14784</th>\n",
       "      <td>Resort Hotel</td>\n",
       "      <td>Yes</td>\n",
       "      <td>2015</td>\n",
       "      <td>October</td>\n",
       "      <td>4</td>\n",
       "      <td>PRT</td>\n",
       "      <td>Offline TA/TO</td>\n",
       "      <td>0</td>\n",
       "      <td>26</td>\n",
       "      <td>Canceled</td>\n",
       "    </tr>\n",
       "    <tr>\n",
       "      <th>14785</th>\n",
       "      <td>Resort Hotel</td>\n",
       "      <td>Yes</td>\n",
       "      <td>2015</td>\n",
       "      <td>October</td>\n",
       "      <td>4</td>\n",
       "      <td>PRT</td>\n",
       "      <td>Offline TA/TO</td>\n",
       "      <td>0</td>\n",
       "      <td>26</td>\n",
       "      <td>Canceled</td>\n",
       "    </tr>\n",
       "    <tr>\n",
       "      <th>14786</th>\n",
       "      <td>Resort Hotel</td>\n",
       "      <td>Yes</td>\n",
       "      <td>2015</td>\n",
       "      <td>October</td>\n",
       "      <td>4</td>\n",
       "      <td>PRT</td>\n",
       "      <td>Offline TA/TO</td>\n",
       "      <td>0</td>\n",
       "      <td>26</td>\n",
       "      <td>Canceled</td>\n",
       "    </tr>\n",
       "    <tr>\n",
       "      <th>14787</th>\n",
       "      <td>Resort Hotel</td>\n",
       "      <td>Yes</td>\n",
       "      <td>2015</td>\n",
       "      <td>October</td>\n",
       "      <td>4</td>\n",
       "      <td>PRT</td>\n",
       "      <td>Offline TA/TO</td>\n",
       "      <td>0</td>\n",
       "      <td>26</td>\n",
       "      <td>Canceled</td>\n",
       "    </tr>\n",
       "    <tr>\n",
       "      <th>14788</th>\n",
       "      <td>Resort Hotel</td>\n",
       "      <td>Yes</td>\n",
       "      <td>2015</td>\n",
       "      <td>October</td>\n",
       "      <td>4</td>\n",
       "      <td>PRT</td>\n",
       "      <td>Offline TA/TO</td>\n",
       "      <td>0</td>\n",
       "      <td>26</td>\n",
       "      <td>Canceled</td>\n",
       "    </tr>\n",
       "    <tr>\n",
       "      <th>14789</th>\n",
       "      <td>Resort Hotel</td>\n",
       "      <td>Yes</td>\n",
       "      <td>2015</td>\n",
       "      <td>October</td>\n",
       "      <td>4</td>\n",
       "      <td>PRT</td>\n",
       "      <td>Offline TA/TO</td>\n",
       "      <td>0</td>\n",
       "      <td>26</td>\n",
       "      <td>Canceled</td>\n",
       "    </tr>\n",
       "    <tr>\n",
       "      <th>14790</th>\n",
       "      <td>Resort Hotel</td>\n",
       "      <td>Yes</td>\n",
       "      <td>2015</td>\n",
       "      <td>October</td>\n",
       "      <td>4</td>\n",
       "      <td>PRT</td>\n",
       "      <td>Offline TA/TO</td>\n",
       "      <td>0</td>\n",
       "      <td>26</td>\n",
       "      <td>Canceled</td>\n",
       "    </tr>\n",
       "    <tr>\n",
       "      <th>14791</th>\n",
       "      <td>Resort Hotel</td>\n",
       "      <td>Yes</td>\n",
       "      <td>2015</td>\n",
       "      <td>October</td>\n",
       "      <td>4</td>\n",
       "      <td>PRT</td>\n",
       "      <td>Offline TA/TO</td>\n",
       "      <td>0</td>\n",
       "      <td>26</td>\n",
       "      <td>Canceled</td>\n",
       "    </tr>\n",
       "    <tr>\n",
       "      <th>14792</th>\n",
       "      <td>Resort Hotel</td>\n",
       "      <td>Yes</td>\n",
       "      <td>2015</td>\n",
       "      <td>October</td>\n",
       "      <td>4</td>\n",
       "      <td>PRT</td>\n",
       "      <td>Offline TA/TO</td>\n",
       "      <td>0</td>\n",
       "      <td>26</td>\n",
       "      <td>Canceled</td>\n",
       "    </tr>\n",
       "    <tr>\n",
       "      <th>14793</th>\n",
       "      <td>Resort Hotel</td>\n",
       "      <td>Yes</td>\n",
       "      <td>2015</td>\n",
       "      <td>October</td>\n",
       "      <td>4</td>\n",
       "      <td>PRT</td>\n",
       "      <td>Offline TA/TO</td>\n",
       "      <td>0</td>\n",
       "      <td>26</td>\n",
       "      <td>Canceled</td>\n",
       "    </tr>\n",
       "    <tr>\n",
       "      <th>14794</th>\n",
       "      <td>Resort Hotel</td>\n",
       "      <td>Yes</td>\n",
       "      <td>2015</td>\n",
       "      <td>October</td>\n",
       "      <td>4</td>\n",
       "      <td>PRT</td>\n",
       "      <td>Offline TA/TO</td>\n",
       "      <td>0</td>\n",
       "      <td>26</td>\n",
       "      <td>Canceled</td>\n",
       "    </tr>\n",
       "    <tr>\n",
       "      <th>14795</th>\n",
       "      <td>Resort Hotel</td>\n",
       "      <td>Yes</td>\n",
       "      <td>2015</td>\n",
       "      <td>October</td>\n",
       "      <td>4</td>\n",
       "      <td>PRT</td>\n",
       "      <td>Offline TA/TO</td>\n",
       "      <td>0</td>\n",
       "      <td>26</td>\n",
       "      <td>Canceled</td>\n",
       "    </tr>\n",
       "    <tr>\n",
       "      <th>14796</th>\n",
       "      <td>Resort Hotel</td>\n",
       "      <td>Yes</td>\n",
       "      <td>2015</td>\n",
       "      <td>October</td>\n",
       "      <td>4</td>\n",
       "      <td>PRT</td>\n",
       "      <td>Offline TA/TO</td>\n",
       "      <td>0</td>\n",
       "      <td>26</td>\n",
       "      <td>Canceled</td>\n",
       "    </tr>\n",
       "    <tr>\n",
       "      <th>14797</th>\n",
       "      <td>Resort Hotel</td>\n",
       "      <td>Yes</td>\n",
       "      <td>2015</td>\n",
       "      <td>October</td>\n",
       "      <td>4</td>\n",
       "      <td>PRT</td>\n",
       "      <td>Offline TA/TO</td>\n",
       "      <td>0</td>\n",
       "      <td>26</td>\n",
       "      <td>Canceled</td>\n",
       "    </tr>\n",
       "    <tr>\n",
       "      <th>14798</th>\n",
       "      <td>Resort Hotel</td>\n",
       "      <td>Yes</td>\n",
       "      <td>2015</td>\n",
       "      <td>October</td>\n",
       "      <td>4</td>\n",
       "      <td>PRT</td>\n",
       "      <td>Offline TA/TO</td>\n",
       "      <td>0</td>\n",
       "      <td>26</td>\n",
       "      <td>Canceled</td>\n",
       "    </tr>\n",
       "    <tr>\n",
       "      <th>14799</th>\n",
       "      <td>Resort Hotel</td>\n",
       "      <td>Yes</td>\n",
       "      <td>2015</td>\n",
       "      <td>October</td>\n",
       "      <td>4</td>\n",
       "      <td>PRT</td>\n",
       "      <td>Offline TA/TO</td>\n",
       "      <td>0</td>\n",
       "      <td>26</td>\n",
       "      <td>Canceled</td>\n",
       "    </tr>\n",
       "    <tr>\n",
       "      <th>14800</th>\n",
       "      <td>Resort Hotel</td>\n",
       "      <td>Yes</td>\n",
       "      <td>2015</td>\n",
       "      <td>October</td>\n",
       "      <td>4</td>\n",
       "      <td>PRT</td>\n",
       "      <td>Offline TA/TO</td>\n",
       "      <td>0</td>\n",
       "      <td>26</td>\n",
       "      <td>Canceled</td>\n",
       "    </tr>\n",
       "    <tr>\n",
       "      <th>14801</th>\n",
       "      <td>Resort Hotel</td>\n",
       "      <td>Yes</td>\n",
       "      <td>2015</td>\n",
       "      <td>October</td>\n",
       "      <td>4</td>\n",
       "      <td>PRT</td>\n",
       "      <td>Offline TA/TO</td>\n",
       "      <td>0</td>\n",
       "      <td>26</td>\n",
       "      <td>Canceled</td>\n",
       "    </tr>\n",
       "    <tr>\n",
       "      <th>14802</th>\n",
       "      <td>Resort Hotel</td>\n",
       "      <td>Yes</td>\n",
       "      <td>2015</td>\n",
       "      <td>October</td>\n",
       "      <td>4</td>\n",
       "      <td>PRT</td>\n",
       "      <td>Offline TA/TO</td>\n",
       "      <td>0</td>\n",
       "      <td>26</td>\n",
       "      <td>Canceled</td>\n",
       "    </tr>\n",
       "    <tr>\n",
       "      <th>14803</th>\n",
       "      <td>Resort Hotel</td>\n",
       "      <td>Yes</td>\n",
       "      <td>2015</td>\n",
       "      <td>October</td>\n",
       "      <td>4</td>\n",
       "      <td>PRT</td>\n",
       "      <td>Offline TA/TO</td>\n",
       "      <td>0</td>\n",
       "      <td>26</td>\n",
       "      <td>Canceled</td>\n",
       "    </tr>\n",
       "    <tr>\n",
       "      <th>14804</th>\n",
       "      <td>Resort Hotel</td>\n",
       "      <td>Yes</td>\n",
       "      <td>2015</td>\n",
       "      <td>October</td>\n",
       "      <td>4</td>\n",
       "      <td>PRT</td>\n",
       "      <td>Offline TA/TO</td>\n",
       "      <td>0</td>\n",
       "      <td>26</td>\n",
       "      <td>Canceled</td>\n",
       "    </tr>\n",
       "  </tbody>\n",
       "</table>\n",
       "</div>"
      ],
      "text/plain": [
       "              hotel is_canceled  arrival_date_year arrival_date_month  \\\n",
       "14779  Resort Hotel         Yes               2015            October   \n",
       "14780  Resort Hotel         Yes               2015            October   \n",
       "14781  Resort Hotel         Yes               2015            October   \n",
       "14782  Resort Hotel         Yes               2015            October   \n",
       "14783  Resort Hotel         Yes               2015            October   \n",
       "14784  Resort Hotel         Yes               2015            October   \n",
       "14785  Resort Hotel         Yes               2015            October   \n",
       "14786  Resort Hotel         Yes               2015            October   \n",
       "14787  Resort Hotel         Yes               2015            October   \n",
       "14788  Resort Hotel         Yes               2015            October   \n",
       "14789  Resort Hotel         Yes               2015            October   \n",
       "14790  Resort Hotel         Yes               2015            October   \n",
       "14791  Resort Hotel         Yes               2015            October   \n",
       "14792  Resort Hotel         Yes               2015            October   \n",
       "14793  Resort Hotel         Yes               2015            October   \n",
       "14794  Resort Hotel         Yes               2015            October   \n",
       "14795  Resort Hotel         Yes               2015            October   \n",
       "14796  Resort Hotel         Yes               2015            October   \n",
       "14797  Resort Hotel         Yes               2015            October   \n",
       "14798  Resort Hotel         Yes               2015            October   \n",
       "14799  Resort Hotel         Yes               2015            October   \n",
       "14800  Resort Hotel         Yes               2015            October   \n",
       "14801  Resort Hotel         Yes               2015            October   \n",
       "14802  Resort Hotel         Yes               2015            October   \n",
       "14803  Resort Hotel         Yes               2015            October   \n",
       "14804  Resort Hotel         Yes               2015            October   \n",
       "\n",
       "       arrival_date_day country market_segment  is_repeated_guest  \\\n",
       "14779                 4     PRT  Offline TA/TO                  0   \n",
       "14780                 4     PRT  Offline TA/TO                  0   \n",
       "14781                 4     PRT  Offline TA/TO                  0   \n",
       "14782                 4     PRT  Offline TA/TO                  0   \n",
       "14783                 4     PRT  Offline TA/TO                  0   \n",
       "14784                 4     PRT  Offline TA/TO                  0   \n",
       "14785                 4     PRT  Offline TA/TO                  0   \n",
       "14786                 4     PRT  Offline TA/TO                  0   \n",
       "14787                 4     PRT  Offline TA/TO                  0   \n",
       "14788                 4     PRT  Offline TA/TO                  0   \n",
       "14789                 4     PRT  Offline TA/TO                  0   \n",
       "14790                 4     PRT  Offline TA/TO                  0   \n",
       "14791                 4     PRT  Offline TA/TO                  0   \n",
       "14792                 4     PRT  Offline TA/TO                  0   \n",
       "14793                 4     PRT  Offline TA/TO                  0   \n",
       "14794                 4     PRT  Offline TA/TO                  0   \n",
       "14795                 4     PRT  Offline TA/TO                  0   \n",
       "14796                 4     PRT  Offline TA/TO                  0   \n",
       "14797                 4     PRT  Offline TA/TO                  0   \n",
       "14798                 4     PRT  Offline TA/TO                  0   \n",
       "14799                 4     PRT  Offline TA/TO                  0   \n",
       "14800                 4     PRT  Offline TA/TO                  0   \n",
       "14801                 4     PRT  Offline TA/TO                  0   \n",
       "14802                 4     PRT  Offline TA/TO                  0   \n",
       "14803                 4     PRT  Offline TA/TO                  0   \n",
       "14804                 4     PRT  Offline TA/TO                  0   \n",
       "\n",
       "       previous_cancellations reservation_status  \n",
       "14779                      26           Canceled  \n",
       "14780                      26           Canceled  \n",
       "14781                      26           Canceled  \n",
       "14782                      26           Canceled  \n",
       "14783                      26           Canceled  \n",
       "14784                      26           Canceled  \n",
       "14785                      26           Canceled  \n",
       "14786                      26           Canceled  \n",
       "14787                      26           Canceled  \n",
       "14788                      26           Canceled  \n",
       "14789                      26           Canceled  \n",
       "14790                      26           Canceled  \n",
       "14791                      26           Canceled  \n",
       "14792                      26           Canceled  \n",
       "14793                      26           Canceled  \n",
       "14794                      26           Canceled  \n",
       "14795                      26           Canceled  \n",
       "14796                      26           Canceled  \n",
       "14797                      26           Canceled  \n",
       "14798                      26           Canceled  \n",
       "14799                      26           Canceled  \n",
       "14800                      26           Canceled  \n",
       "14801                      26           Canceled  \n",
       "14802                      26           Canceled  \n",
       "14803                      26           Canceled  \n",
       "14804                      26           Canceled  "
      ]
     },
     "execution_count": 30,
     "metadata": {},
     "output_type": "execute_result"
    }
   ],
   "source": [
    "country_with_high_cancellations"
   ]
  },
  {
   "cell_type": "code",
   "execution_count": 31,
   "id": "55699052",
   "metadata": {},
   "outputs": [
    {
     "data": {
      "text/plain": [
       "array(['PRT'], dtype=object)"
      ]
     },
     "execution_count": 31,
     "metadata": {},
     "output_type": "execute_result"
    }
   ],
   "source": [
    "country_with_high_cancellations['country'].unique()"
   ]
  },
  {
   "cell_type": "markdown",
   "id": "03ce05ca",
   "metadata": {},
   "source": [
    "From the above, It can be said that PRT is associated with the highest previous booking cancellations"
   ]
  },
  {
   "cell_type": "code",
   "execution_count": null,
   "id": "9a24c05f",
   "metadata": {},
   "outputs": [],
   "source": []
  },
  {
   "cell_type": "code",
   "execution_count": null,
   "id": "99a0d98d",
   "metadata": {},
   "outputs": [],
   "source": []
  },
  {
   "cell_type": "markdown",
   "id": "9b3ae21d",
   "metadata": {},
   "source": [
    "# 5. Cleaning\n",
    "\n",
    "### \"is_repeated_guest\" column contains Values indicating if the booking name was from a repeated guest (1) or not (0)\n",
    "\n",
    "### It has values as 1 or 0. Change this to a \"Yes\" or \"No\" respectively to make more meaning\n",
    "\n",
    "NB -- If the column type is numerical, it has to be converted to a string before replacing the values.\n",
    "\n",
    "This is done with .astype(str)\n"
   ]
  },
  {
   "cell_type": "code",
   "execution_count": 32,
   "id": "7b31f8bc",
   "metadata": {},
   "outputs": [
    {
     "data": {
      "text/html": [
       "<div>\n",
       "<style scoped>\n",
       "    .dataframe tbody tr th:only-of-type {\n",
       "        vertical-align: middle;\n",
       "    }\n",
       "\n",
       "    .dataframe tbody tr th {\n",
       "        vertical-align: top;\n",
       "    }\n",
       "\n",
       "    .dataframe thead th {\n",
       "        text-align: right;\n",
       "    }\n",
       "</style>\n",
       "<table border=\"1\" class=\"dataframe\">\n",
       "  <thead>\n",
       "    <tr style=\"text-align: right;\">\n",
       "      <th></th>\n",
       "      <th>hotel</th>\n",
       "      <th>is_canceled</th>\n",
       "      <th>arrival_date_year</th>\n",
       "      <th>arrival_date_month</th>\n",
       "      <th>arrival_date_day</th>\n",
       "      <th>country</th>\n",
       "      <th>market_segment</th>\n",
       "      <th>is_repeated_guest</th>\n",
       "      <th>previous_cancellations</th>\n",
       "      <th>reservation_status</th>\n",
       "    </tr>\n",
       "  </thead>\n",
       "  <tbody>\n",
       "    <tr>\n",
       "      <th>0</th>\n",
       "      <td>Resort Hotel</td>\n",
       "      <td>No</td>\n",
       "      <td>2015</td>\n",
       "      <td>July</td>\n",
       "      <td>1</td>\n",
       "      <td>PRT</td>\n",
       "      <td>Direct</td>\n",
       "      <td>0</td>\n",
       "      <td>0</td>\n",
       "      <td>Check-Out</td>\n",
       "    </tr>\n",
       "    <tr>\n",
       "      <th>1</th>\n",
       "      <td>Resort Hotel</td>\n",
       "      <td>No</td>\n",
       "      <td>2015</td>\n",
       "      <td>July</td>\n",
       "      <td>1</td>\n",
       "      <td>PRT</td>\n",
       "      <td>Direct</td>\n",
       "      <td>0</td>\n",
       "      <td>0</td>\n",
       "      <td>Check-Out</td>\n",
       "    </tr>\n",
       "    <tr>\n",
       "      <th>2</th>\n",
       "      <td>Resort Hotel</td>\n",
       "      <td>No</td>\n",
       "      <td>2015</td>\n",
       "      <td>July</td>\n",
       "      <td>1</td>\n",
       "      <td>GBR</td>\n",
       "      <td>Direct</td>\n",
       "      <td>0</td>\n",
       "      <td>0</td>\n",
       "      <td>Check-Out</td>\n",
       "    </tr>\n",
       "    <tr>\n",
       "      <th>3</th>\n",
       "      <td>Resort Hotel</td>\n",
       "      <td>No</td>\n",
       "      <td>2015</td>\n",
       "      <td>July</td>\n",
       "      <td>1</td>\n",
       "      <td>GBR</td>\n",
       "      <td>Corporate</td>\n",
       "      <td>0</td>\n",
       "      <td>0</td>\n",
       "      <td>Check-Out</td>\n",
       "    </tr>\n",
       "    <tr>\n",
       "      <th>4</th>\n",
       "      <td>Resort Hotel</td>\n",
       "      <td>No</td>\n",
       "      <td>2015</td>\n",
       "      <td>July</td>\n",
       "      <td>1</td>\n",
       "      <td>GBR</td>\n",
       "      <td>Online TA</td>\n",
       "      <td>0</td>\n",
       "      <td>0</td>\n",
       "      <td>Check-Out</td>\n",
       "    </tr>\n",
       "  </tbody>\n",
       "</table>\n",
       "</div>"
      ],
      "text/plain": [
       "          hotel is_canceled  arrival_date_year arrival_date_month  \\\n",
       "0  Resort Hotel          No               2015               July   \n",
       "1  Resort Hotel          No               2015               July   \n",
       "2  Resort Hotel          No               2015               July   \n",
       "3  Resort Hotel          No               2015               July   \n",
       "4  Resort Hotel          No               2015               July   \n",
       "\n",
       "   arrival_date_day country market_segment  is_repeated_guest  \\\n",
       "0                 1     PRT         Direct                  0   \n",
       "1                 1     PRT         Direct                  0   \n",
       "2                 1     GBR         Direct                  0   \n",
       "3                 1     GBR      Corporate                  0   \n",
       "4                 1     GBR      Online TA                  0   \n",
       "\n",
       "   previous_cancellations reservation_status  \n",
       "0                       0          Check-Out  \n",
       "1                       0          Check-Out  \n",
       "2                       0          Check-Out  \n",
       "3                       0          Check-Out  \n",
       "4                       0          Check-Out  "
      ]
     },
     "execution_count": 32,
     "metadata": {},
     "output_type": "execute_result"
    }
   ],
   "source": [
    "hotel_bookings.head()"
   ]
  },
  {
   "cell_type": "code",
   "execution_count": 33,
   "id": "9dbc686e",
   "metadata": {},
   "outputs": [
    {
     "data": {
      "text/plain": [
       "array([0, 1], dtype=int64)"
      ]
     },
     "execution_count": 33,
     "metadata": {},
     "output_type": "execute_result"
    }
   ],
   "source": [
    "hotel_bookings['is_repeated_guest'].unique()"
   ]
  },
  {
   "cell_type": "markdown",
   "id": "0fdaaedd",
   "metadata": {},
   "source": [
    "From the above, the data type of the 'is_repeated_guest' is (int)"
   ]
  },
  {
   "cell_type": "code",
   "execution_count": 34,
   "id": "55c6b8b3",
   "metadata": {},
   "outputs": [],
   "source": [
    "#Convert the data type of the 'is_repeated_guest' column to a string in order to make changes\n",
    "hotel_bookings['is_repeated_guest'] = hotel_bookings['is_repeated_guest'].astype(str)"
   ]
  },
  {
   "cell_type": "code",
   "execution_count": 35,
   "id": "73e2aed9",
   "metadata": {},
   "outputs": [
    {
     "data": {
      "text/plain": [
       "0         0\n",
       "1         0\n",
       "2         0\n",
       "3         0\n",
       "4         0\n",
       "         ..\n",
       "119385    0\n",
       "119386    0\n",
       "119387    0\n",
       "119388    0\n",
       "119389    0\n",
       "Name: is_repeated_guest, Length: 119390, dtype: object"
      ]
     },
     "execution_count": 35,
     "metadata": {},
     "output_type": "execute_result"
    }
   ],
   "source": [
    "hotel_bookings['is_repeated_guest']"
   ]
  },
  {
   "cell_type": "markdown",
   "id": "59588926",
   "metadata": {},
   "source": [
    "The data type is now a string"
   ]
  },
  {
   "cell_type": "code",
   "execution_count": 36,
   "id": "39e4269b",
   "metadata": {},
   "outputs": [],
   "source": [
    "#Make 0s No\n",
    "hotel_bookings['is_repeated_guest'] = hotel_bookings['is_repeated_guest'].str.replace('0','No')"
   ]
  },
  {
   "cell_type": "code",
   "execution_count": 37,
   "id": "4107e6f1",
   "metadata": {},
   "outputs": [],
   "source": [
    "#Make 1s Yes\n",
    "hotel_bookings['is_repeated_guest'] = hotel_bookings['is_repeated_guest'].str.replace('1','Yes')"
   ]
  },
  {
   "cell_type": "code",
   "execution_count": 38,
   "id": "cc766203",
   "metadata": {},
   "outputs": [
    {
     "data": {
      "text/plain": [
       "0         No\n",
       "1         No\n",
       "2         No\n",
       "3         No\n",
       "4         No\n",
       "          ..\n",
       "119385    No\n",
       "119386    No\n",
       "119387    No\n",
       "119388    No\n",
       "119389    No\n",
       "Name: is_repeated_guest, Length: 119390, dtype: object"
      ]
     },
     "execution_count": 38,
     "metadata": {},
     "output_type": "execute_result"
    }
   ],
   "source": [
    "hotel_bookings['is_repeated_guest']"
   ]
  },
  {
   "cell_type": "code",
   "execution_count": 39,
   "id": "2d0a162f",
   "metadata": {},
   "outputs": [
    {
     "data": {
      "text/plain": [
       "No     115580\n",
       "Yes      3810\n",
       "Name: is_repeated_guest, dtype: int64"
      ]
     },
     "execution_count": 39,
     "metadata": {},
     "output_type": "execute_result"
    }
   ],
   "source": [
    "hotel_bookings['is_repeated_guest'].value_counts()"
   ]
  },
  {
   "cell_type": "code",
   "execution_count": null,
   "id": "31036cab",
   "metadata": {},
   "outputs": [],
   "source": []
  },
  {
   "cell_type": "code",
   "execution_count": null,
   "id": "b4a2213d",
   "metadata": {},
   "outputs": [],
   "source": []
  },
  {
   "cell_type": "markdown",
   "id": "b256e32d",
   "metadata": {},
   "source": [
    "# Question 6\n",
    "\n",
    " The Customer Relations Officer would like to find out her repeated guests who have previously cancelled 3 or more bookings.\n",
    "\n",
    " Help her by filtering this information out for her"
   ]
  },
  {
   "cell_type": "code",
   "execution_count": 40,
   "id": "5f80be42",
   "metadata": {},
   "outputs": [
    {
     "data": {
      "text/html": [
       "<div>\n",
       "<style scoped>\n",
       "    .dataframe tbody tr th:only-of-type {\n",
       "        vertical-align: middle;\n",
       "    }\n",
       "\n",
       "    .dataframe tbody tr th {\n",
       "        vertical-align: top;\n",
       "    }\n",
       "\n",
       "    .dataframe thead th {\n",
       "        text-align: right;\n",
       "    }\n",
       "</style>\n",
       "<table border=\"1\" class=\"dataframe\">\n",
       "  <thead>\n",
       "    <tr style=\"text-align: right;\">\n",
       "      <th></th>\n",
       "      <th>hotel</th>\n",
       "      <th>is_canceled</th>\n",
       "      <th>arrival_date_year</th>\n",
       "      <th>arrival_date_month</th>\n",
       "      <th>arrival_date_day</th>\n",
       "      <th>country</th>\n",
       "      <th>market_segment</th>\n",
       "      <th>is_repeated_guest</th>\n",
       "      <th>previous_cancellations</th>\n",
       "      <th>reservation_status</th>\n",
       "    </tr>\n",
       "  </thead>\n",
       "  <tbody>\n",
       "    <tr>\n",
       "      <th>0</th>\n",
       "      <td>Resort Hotel</td>\n",
       "      <td>No</td>\n",
       "      <td>2015</td>\n",
       "      <td>July</td>\n",
       "      <td>1</td>\n",
       "      <td>PRT</td>\n",
       "      <td>Direct</td>\n",
       "      <td>No</td>\n",
       "      <td>0</td>\n",
       "      <td>Check-Out</td>\n",
       "    </tr>\n",
       "    <tr>\n",
       "      <th>1</th>\n",
       "      <td>Resort Hotel</td>\n",
       "      <td>No</td>\n",
       "      <td>2015</td>\n",
       "      <td>July</td>\n",
       "      <td>1</td>\n",
       "      <td>PRT</td>\n",
       "      <td>Direct</td>\n",
       "      <td>No</td>\n",
       "      <td>0</td>\n",
       "      <td>Check-Out</td>\n",
       "    </tr>\n",
       "    <tr>\n",
       "      <th>2</th>\n",
       "      <td>Resort Hotel</td>\n",
       "      <td>No</td>\n",
       "      <td>2015</td>\n",
       "      <td>July</td>\n",
       "      <td>1</td>\n",
       "      <td>GBR</td>\n",
       "      <td>Direct</td>\n",
       "      <td>No</td>\n",
       "      <td>0</td>\n",
       "      <td>Check-Out</td>\n",
       "    </tr>\n",
       "    <tr>\n",
       "      <th>3</th>\n",
       "      <td>Resort Hotel</td>\n",
       "      <td>No</td>\n",
       "      <td>2015</td>\n",
       "      <td>July</td>\n",
       "      <td>1</td>\n",
       "      <td>GBR</td>\n",
       "      <td>Corporate</td>\n",
       "      <td>No</td>\n",
       "      <td>0</td>\n",
       "      <td>Check-Out</td>\n",
       "    </tr>\n",
       "    <tr>\n",
       "      <th>4</th>\n",
       "      <td>Resort Hotel</td>\n",
       "      <td>No</td>\n",
       "      <td>2015</td>\n",
       "      <td>July</td>\n",
       "      <td>1</td>\n",
       "      <td>GBR</td>\n",
       "      <td>Online TA</td>\n",
       "      <td>No</td>\n",
       "      <td>0</td>\n",
       "      <td>Check-Out</td>\n",
       "    </tr>\n",
       "  </tbody>\n",
       "</table>\n",
       "</div>"
      ],
      "text/plain": [
       "          hotel is_canceled  arrival_date_year arrival_date_month  \\\n",
       "0  Resort Hotel          No               2015               July   \n",
       "1  Resort Hotel          No               2015               July   \n",
       "2  Resort Hotel          No               2015               July   \n",
       "3  Resort Hotel          No               2015               July   \n",
       "4  Resort Hotel          No               2015               July   \n",
       "\n",
       "   arrival_date_day country market_segment is_repeated_guest  \\\n",
       "0                 1     PRT         Direct                No   \n",
       "1                 1     PRT         Direct                No   \n",
       "2                 1     GBR         Direct                No   \n",
       "3                 1     GBR      Corporate                No   \n",
       "4                 1     GBR      Online TA                No   \n",
       "\n",
       "   previous_cancellations reservation_status  \n",
       "0                       0          Check-Out  \n",
       "1                       0          Check-Out  \n",
       "2                       0          Check-Out  \n",
       "3                       0          Check-Out  \n",
       "4                       0          Check-Out  "
      ]
     },
     "execution_count": 40,
     "metadata": {},
     "output_type": "execute_result"
    }
   ],
   "source": [
    "hotel_bookings.head()"
   ]
  },
  {
   "cell_type": "code",
   "execution_count": 41,
   "id": "d16e030b",
   "metadata": {},
   "outputs": [],
   "source": [
    "#Filter the dataset to obtain data only for the repeated guests\n",
    "repeated_guest = hotel_bookings[hotel_bookings['is_repeated_guest'] == 'Yes']"
   ]
  },
  {
   "cell_type": "code",
   "execution_count": 42,
   "id": "99004ca5",
   "metadata": {},
   "outputs": [
    {
     "data": {
      "text/html": [
       "<div>\n",
       "<style scoped>\n",
       "    .dataframe tbody tr th:only-of-type {\n",
       "        vertical-align: middle;\n",
       "    }\n",
       "\n",
       "    .dataframe tbody tr th {\n",
       "        vertical-align: top;\n",
       "    }\n",
       "\n",
       "    .dataframe thead th {\n",
       "        text-align: right;\n",
       "    }\n",
       "</style>\n",
       "<table border=\"1\" class=\"dataframe\">\n",
       "  <thead>\n",
       "    <tr style=\"text-align: right;\">\n",
       "      <th></th>\n",
       "      <th>hotel</th>\n",
       "      <th>is_canceled</th>\n",
       "      <th>arrival_date_year</th>\n",
       "      <th>arrival_date_month</th>\n",
       "      <th>arrival_date_day</th>\n",
       "      <th>country</th>\n",
       "      <th>market_segment</th>\n",
       "      <th>is_repeated_guest</th>\n",
       "      <th>previous_cancellations</th>\n",
       "      <th>reservation_status</th>\n",
       "    </tr>\n",
       "  </thead>\n",
       "  <tbody>\n",
       "    <tr>\n",
       "      <th>13937</th>\n",
       "      <td>Resort Hotel</td>\n",
       "      <td>No</td>\n",
       "      <td>2016</td>\n",
       "      <td>April</td>\n",
       "      <td>20</td>\n",
       "      <td>PRT</td>\n",
       "      <td>Complementary</td>\n",
       "      <td>Yes</td>\n",
       "      <td>0</td>\n",
       "      <td>Check-Out</td>\n",
       "    </tr>\n",
       "    <tr>\n",
       "      <th>14681</th>\n",
       "      <td>Resort Hotel</td>\n",
       "      <td>Yes</td>\n",
       "      <td>2015</td>\n",
       "      <td>July</td>\n",
       "      <td>22</td>\n",
       "      <td>PRT</td>\n",
       "      <td>Offline TA/TO</td>\n",
       "      <td>Yes</td>\n",
       "      <td>1</td>\n",
       "      <td>Canceled</td>\n",
       "    </tr>\n",
       "    <tr>\n",
       "      <th>14777</th>\n",
       "      <td>Resort Hotel</td>\n",
       "      <td>Yes</td>\n",
       "      <td>2015</td>\n",
       "      <td>August</td>\n",
       "      <td>4</td>\n",
       "      <td>PRT</td>\n",
       "      <td>Online TA</td>\n",
       "      <td>Yes</td>\n",
       "      <td>1</td>\n",
       "      <td>Canceled</td>\n",
       "    </tr>\n",
       "    <tr>\n",
       "      <th>14817</th>\n",
       "      <td>Resort Hotel</td>\n",
       "      <td>Yes</td>\n",
       "      <td>2015</td>\n",
       "      <td>September</td>\n",
       "      <td>1</td>\n",
       "      <td>PRT</td>\n",
       "      <td>Offline TA/TO</td>\n",
       "      <td>Yes</td>\n",
       "      <td>1</td>\n",
       "      <td>Canceled</td>\n",
       "    </tr>\n",
       "    <tr>\n",
       "      <th>14823</th>\n",
       "      <td>Resort Hotel</td>\n",
       "      <td>Yes</td>\n",
       "      <td>2015</td>\n",
       "      <td>August</td>\n",
       "      <td>16</td>\n",
       "      <td>PRT</td>\n",
       "      <td>Direct</td>\n",
       "      <td>Yes</td>\n",
       "      <td>1</td>\n",
       "      <td>Canceled</td>\n",
       "    </tr>\n",
       "  </tbody>\n",
       "</table>\n",
       "</div>"
      ],
      "text/plain": [
       "              hotel is_canceled  arrival_date_year arrival_date_month  \\\n",
       "13937  Resort Hotel          No               2016              April   \n",
       "14681  Resort Hotel         Yes               2015               July   \n",
       "14777  Resort Hotel         Yes               2015             August   \n",
       "14817  Resort Hotel         Yes               2015          September   \n",
       "14823  Resort Hotel         Yes               2015             August   \n",
       "\n",
       "       arrival_date_day country market_segment is_repeated_guest  \\\n",
       "13937                20     PRT  Complementary               Yes   \n",
       "14681                22     PRT  Offline TA/TO               Yes   \n",
       "14777                 4     PRT      Online TA               Yes   \n",
       "14817                 1     PRT  Offline TA/TO               Yes   \n",
       "14823                16     PRT         Direct               Yes   \n",
       "\n",
       "       previous_cancellations reservation_status  \n",
       "13937                       0          Check-Out  \n",
       "14681                       1           Canceled  \n",
       "14777                       1           Canceled  \n",
       "14817                       1           Canceled  \n",
       "14823                       1           Canceled  "
      ]
     },
     "execution_count": 42,
     "metadata": {},
     "output_type": "execute_result"
    }
   ],
   "source": [
    "repeated_guest.head()"
   ]
  },
  {
   "cell_type": "code",
   "execution_count": 43,
   "id": "d92aa474",
   "metadata": {},
   "outputs": [
    {
     "data": {
      "text/plain": [
       "(3810, 10)"
      ]
     },
     "execution_count": 43,
     "metadata": {},
     "output_type": "execute_result"
    }
   ],
   "source": [
    "repeated_guest.shape"
   ]
  },
  {
   "cell_type": "code",
   "execution_count": 44,
   "id": "ad21f303",
   "metadata": {},
   "outputs": [
    {
     "data": {
      "text/plain": [
       "21"
      ]
     },
     "execution_count": 44,
     "metadata": {},
     "output_type": "execute_result"
    }
   ],
   "source": [
    "repeated_guest['previous_cancellations'].max()"
   ]
  },
  {
   "cell_type": "code",
   "execution_count": 45,
   "id": "1edb5b15",
   "metadata": {},
   "outputs": [],
   "source": [
    "three_or_more_cancellation = repeated_guest[repeated_guest['previous_cancellations'] >= 3]"
   ]
  },
  {
   "cell_type": "code",
   "execution_count": 46,
   "id": "b16fbef9",
   "metadata": {},
   "outputs": [
    {
     "data": {
      "text/html": [
       "<div>\n",
       "<style scoped>\n",
       "    .dataframe tbody tr th:only-of-type {\n",
       "        vertical-align: middle;\n",
       "    }\n",
       "\n",
       "    .dataframe tbody tr th {\n",
       "        vertical-align: top;\n",
       "    }\n",
       "\n",
       "    .dataframe thead th {\n",
       "        text-align: right;\n",
       "    }\n",
       "</style>\n",
       "<table border=\"1\" class=\"dataframe\">\n",
       "  <thead>\n",
       "    <tr style=\"text-align: right;\">\n",
       "      <th></th>\n",
       "      <th>hotel</th>\n",
       "      <th>is_canceled</th>\n",
       "      <th>arrival_date_year</th>\n",
       "      <th>arrival_date_month</th>\n",
       "      <th>arrival_date_day</th>\n",
       "      <th>country</th>\n",
       "      <th>market_segment</th>\n",
       "      <th>is_repeated_guest</th>\n",
       "      <th>previous_cancellations</th>\n",
       "      <th>reservation_status</th>\n",
       "    </tr>\n",
       "  </thead>\n",
       "  <tbody>\n",
       "    <tr>\n",
       "      <th>14921</th>\n",
       "      <td>Resort Hotel</td>\n",
       "      <td>No</td>\n",
       "      <td>2017</td>\n",
       "      <td>February</td>\n",
       "      <td>24</td>\n",
       "      <td>PRT</td>\n",
       "      <td>Online TA</td>\n",
       "      <td>Yes</td>\n",
       "      <td>3</td>\n",
       "      <td>Check-Out</td>\n",
       "    </tr>\n",
       "    <tr>\n",
       "      <th>14922</th>\n",
       "      <td>Resort Hotel</td>\n",
       "      <td>No</td>\n",
       "      <td>2017</td>\n",
       "      <td>April</td>\n",
       "      <td>13</td>\n",
       "      <td>PRT</td>\n",
       "      <td>Online TA</td>\n",
       "      <td>Yes</td>\n",
       "      <td>4</td>\n",
       "      <td>Check-Out</td>\n",
       "    </tr>\n",
       "    <tr>\n",
       "      <th>14923</th>\n",
       "      <td>Resort Hotel</td>\n",
       "      <td>Yes</td>\n",
       "      <td>2017</td>\n",
       "      <td>April</td>\n",
       "      <td>13</td>\n",
       "      <td>PRT</td>\n",
       "      <td>Online TA</td>\n",
       "      <td>Yes</td>\n",
       "      <td>4</td>\n",
       "      <td>Canceled</td>\n",
       "    </tr>\n",
       "    <tr>\n",
       "      <th>14924</th>\n",
       "      <td>Resort Hotel</td>\n",
       "      <td>No</td>\n",
       "      <td>2017</td>\n",
       "      <td>April</td>\n",
       "      <td>21</td>\n",
       "      <td>PRT</td>\n",
       "      <td>Online TA</td>\n",
       "      <td>Yes</td>\n",
       "      <td>4</td>\n",
       "      <td>Check-Out</td>\n",
       "    </tr>\n",
       "    <tr>\n",
       "      <th>14925</th>\n",
       "      <td>Resort Hotel</td>\n",
       "      <td>Yes</td>\n",
       "      <td>2017</td>\n",
       "      <td>April</td>\n",
       "      <td>28</td>\n",
       "      <td>PRT</td>\n",
       "      <td>Online TA</td>\n",
       "      <td>Yes</td>\n",
       "      <td>4</td>\n",
       "      <td>Canceled</td>\n",
       "    </tr>\n",
       "  </tbody>\n",
       "</table>\n",
       "</div>"
      ],
      "text/plain": [
       "              hotel is_canceled  arrival_date_year arrival_date_month  \\\n",
       "14921  Resort Hotel          No               2017           February   \n",
       "14922  Resort Hotel          No               2017              April   \n",
       "14923  Resort Hotel         Yes               2017              April   \n",
       "14924  Resort Hotel          No               2017              April   \n",
       "14925  Resort Hotel         Yes               2017              April   \n",
       "\n",
       "       arrival_date_day country market_segment is_repeated_guest  \\\n",
       "14921                24     PRT      Online TA               Yes   \n",
       "14922                13     PRT      Online TA               Yes   \n",
       "14923                13     PRT      Online TA               Yes   \n",
       "14924                21     PRT      Online TA               Yes   \n",
       "14925                28     PRT      Online TA               Yes   \n",
       "\n",
       "       previous_cancellations reservation_status  \n",
       "14921                       3          Check-Out  \n",
       "14922                       4          Check-Out  \n",
       "14923                       4           Canceled  \n",
       "14924                       4          Check-Out  \n",
       "14925                       4           Canceled  "
      ]
     },
     "execution_count": 46,
     "metadata": {},
     "output_type": "execute_result"
    }
   ],
   "source": [
    "three_or_more_cancellation.head()"
   ]
  },
  {
   "cell_type": "code",
   "execution_count": 47,
   "id": "475ff685",
   "metadata": {},
   "outputs": [
    {
     "data": {
      "text/plain": [
       "Yes    158\n",
       "Name: is_repeated_guest, dtype: int64"
      ]
     },
     "execution_count": 47,
     "metadata": {},
     "output_type": "execute_result"
    }
   ],
   "source": [
    "three_or_more_cancellation['is_repeated_guest'].value_counts()"
   ]
  },
  {
   "cell_type": "markdown",
   "id": "3f9283b9",
   "metadata": {},
   "source": [
    "From the above analysis, the Customer Relations Officer will know there are 158 persons who are her repeated guests and have cancelled 3 or more bookings"
   ]
  },
  {
   "cell_type": "code",
   "execution_count": null,
   "id": "49ef4cf6",
   "metadata": {},
   "outputs": [],
   "source": []
  },
  {
   "cell_type": "markdown",
   "id": "d72aac0c",
   "metadata": {},
   "source": [
    "# Question 6\n",
    "\n",
    "The Facilities manager would want to do some major renovations in all the hotels.\n",
    "\n",
    "As an analyst, which month/months are you going to suggest to him and why?"
   ]
  },
  {
   "cell_type": "code",
   "execution_count": 48,
   "id": "75d00a35",
   "metadata": {},
   "outputs": [
    {
     "data": {
      "text/html": [
       "<div>\n",
       "<style scoped>\n",
       "    .dataframe tbody tr th:only-of-type {\n",
       "        vertical-align: middle;\n",
       "    }\n",
       "\n",
       "    .dataframe tbody tr th {\n",
       "        vertical-align: top;\n",
       "    }\n",
       "\n",
       "    .dataframe thead th {\n",
       "        text-align: right;\n",
       "    }\n",
       "</style>\n",
       "<table border=\"1\" class=\"dataframe\">\n",
       "  <thead>\n",
       "    <tr style=\"text-align: right;\">\n",
       "      <th></th>\n",
       "      <th>hotel</th>\n",
       "      <th>is_canceled</th>\n",
       "      <th>arrival_date_year</th>\n",
       "      <th>arrival_date_month</th>\n",
       "      <th>arrival_date_day</th>\n",
       "      <th>country</th>\n",
       "      <th>market_segment</th>\n",
       "      <th>is_repeated_guest</th>\n",
       "      <th>previous_cancellations</th>\n",
       "      <th>reservation_status</th>\n",
       "    </tr>\n",
       "  </thead>\n",
       "  <tbody>\n",
       "    <tr>\n",
       "      <th>0</th>\n",
       "      <td>Resort Hotel</td>\n",
       "      <td>No</td>\n",
       "      <td>2015</td>\n",
       "      <td>July</td>\n",
       "      <td>1</td>\n",
       "      <td>PRT</td>\n",
       "      <td>Direct</td>\n",
       "      <td>No</td>\n",
       "      <td>0</td>\n",
       "      <td>Check-Out</td>\n",
       "    </tr>\n",
       "    <tr>\n",
       "      <th>1</th>\n",
       "      <td>Resort Hotel</td>\n",
       "      <td>No</td>\n",
       "      <td>2015</td>\n",
       "      <td>July</td>\n",
       "      <td>1</td>\n",
       "      <td>PRT</td>\n",
       "      <td>Direct</td>\n",
       "      <td>No</td>\n",
       "      <td>0</td>\n",
       "      <td>Check-Out</td>\n",
       "    </tr>\n",
       "    <tr>\n",
       "      <th>2</th>\n",
       "      <td>Resort Hotel</td>\n",
       "      <td>No</td>\n",
       "      <td>2015</td>\n",
       "      <td>July</td>\n",
       "      <td>1</td>\n",
       "      <td>GBR</td>\n",
       "      <td>Direct</td>\n",
       "      <td>No</td>\n",
       "      <td>0</td>\n",
       "      <td>Check-Out</td>\n",
       "    </tr>\n",
       "    <tr>\n",
       "      <th>3</th>\n",
       "      <td>Resort Hotel</td>\n",
       "      <td>No</td>\n",
       "      <td>2015</td>\n",
       "      <td>July</td>\n",
       "      <td>1</td>\n",
       "      <td>GBR</td>\n",
       "      <td>Corporate</td>\n",
       "      <td>No</td>\n",
       "      <td>0</td>\n",
       "      <td>Check-Out</td>\n",
       "    </tr>\n",
       "    <tr>\n",
       "      <th>4</th>\n",
       "      <td>Resort Hotel</td>\n",
       "      <td>No</td>\n",
       "      <td>2015</td>\n",
       "      <td>July</td>\n",
       "      <td>1</td>\n",
       "      <td>GBR</td>\n",
       "      <td>Online TA</td>\n",
       "      <td>No</td>\n",
       "      <td>0</td>\n",
       "      <td>Check-Out</td>\n",
       "    </tr>\n",
       "  </tbody>\n",
       "</table>\n",
       "</div>"
      ],
      "text/plain": [
       "          hotel is_canceled  arrival_date_year arrival_date_month  \\\n",
       "0  Resort Hotel          No               2015               July   \n",
       "1  Resort Hotel          No               2015               July   \n",
       "2  Resort Hotel          No               2015               July   \n",
       "3  Resort Hotel          No               2015               July   \n",
       "4  Resort Hotel          No               2015               July   \n",
       "\n",
       "   arrival_date_day country market_segment is_repeated_guest  \\\n",
       "0                 1     PRT         Direct                No   \n",
       "1                 1     PRT         Direct                No   \n",
       "2                 1     GBR         Direct                No   \n",
       "3                 1     GBR      Corporate                No   \n",
       "4                 1     GBR      Online TA                No   \n",
       "\n",
       "   previous_cancellations reservation_status  \n",
       "0                       0          Check-Out  \n",
       "1                       0          Check-Out  \n",
       "2                       0          Check-Out  \n",
       "3                       0          Check-Out  \n",
       "4                       0          Check-Out  "
      ]
     },
     "execution_count": 48,
     "metadata": {},
     "output_type": "execute_result"
    }
   ],
   "source": [
    "hotel_bookings.head()"
   ]
  },
  {
   "cell_type": "code",
   "execution_count": 49,
   "id": "6b7de1b7",
   "metadata": {},
   "outputs": [
    {
     "data": {
      "text/plain": [
       "array(['July', 'August', 'September', 'October', 'November', 'December',\n",
       "       'January', 'February', 'March', 'April', 'May', 'June'],\n",
       "      dtype=object)"
      ]
     },
     "execution_count": 49,
     "metadata": {},
     "output_type": "execute_result"
    }
   ],
   "source": [
    "hotel_bookings['arrival_date_month'].unique()"
   ]
  },
  {
   "cell_type": "code",
   "execution_count": 50,
   "id": "f0655fff",
   "metadata": {},
   "outputs": [
    {
     "data": {
      "text/plain": [
       "August       13877\n",
       "July         12661\n",
       "May          11791\n",
       "October      11160\n",
       "April        11089\n",
       "June         10939\n",
       "September    10508\n",
       "March         9794\n",
       "February      8068\n",
       "November      6794\n",
       "December      6780\n",
       "January       5929\n",
       "Name: arrival_date_month, dtype: int64"
      ]
     },
     "execution_count": 50,
     "metadata": {},
     "output_type": "execute_result"
    }
   ],
   "source": [
    "hotel_bookings['arrival_date_month'].value_counts()"
   ]
  },
  {
   "cell_type": "code",
   "execution_count": 51,
   "id": "eb4ad81f",
   "metadata": {},
   "outputs": [
    {
     "data": {
      "text/plain": [
       "<Axes: title={'center': 'A Bar Graph of Total Hotel Bookings as against the Months'}>"
      ]
     },
     "execution_count": 51,
     "metadata": {},
     "output_type": "execute_result"
    },
    {
     "data": {
      "image/png": "[encoded data removed]",
      "text/plain": [
       "<Figure size 640x480 with 1 Axes>"
      ]
     },
     "metadata": {},
     "output_type": "display_data"
    }
   ],
   "source": [
    "hotel_bookings['arrival_date_month'].value_counts().plot(kind = 'barh', title = 'A Bar Graph of Total Hotel Bookings as against the Months')"
   ]
  },
  {
   "cell_type": "markdown",
   "id": "107fe268",
   "metadata": {},
   "source": [
    "From the above analysis, it is noted that the month that has the least number of bookings is 'January', therefore if there's any major renovations to take place, the Facilities Manager should schedule it during this time to avoid customer inconveniencies. He could consider 'November' and 'December' as well."
   ]
  },
  {
   "cell_type": "code",
   "execution_count": null,
   "id": "e97a4a10",
   "metadata": {},
   "outputs": [],
   "source": []
  },
  {
   "cell_type": "markdown",
   "id": "ef10c57b",
   "metadata": {},
   "source": [
    "# Question 7\n",
    "\n",
    "The Marketing Team wants to understand their customer segmentation for a greater outreach.\n",
    "\n",
    "Show them how their customers are segmented for both **City Hotels** and **Resort Hotels**.\n",
    "\n",
    "NB --- **TO** means **Travel Officer**\n",
    "\n",
    "\n",
    "**TA** means **Travel Agents**"
   ]
  },
  {
   "cell_type": "code",
   "execution_count": 52,
   "id": "30e2b790",
   "metadata": {},
   "outputs": [
    {
     "data": {
      "text/html": [
       "<div>\n",
       "<style scoped>\n",
       "    .dataframe tbody tr th:only-of-type {\n",
       "        vertical-align: middle;\n",
       "    }\n",
       "\n",
       "    .dataframe tbody tr th {\n",
       "        vertical-align: top;\n",
       "    }\n",
       "\n",
       "    .dataframe thead th {\n",
       "        text-align: right;\n",
       "    }\n",
       "</style>\n",
       "<table border=\"1\" class=\"dataframe\">\n",
       "  <thead>\n",
       "    <tr style=\"text-align: right;\">\n",
       "      <th></th>\n",
       "      <th>hotel</th>\n",
       "      <th>is_canceled</th>\n",
       "      <th>arrival_date_year</th>\n",
       "      <th>arrival_date_month</th>\n",
       "      <th>arrival_date_day</th>\n",
       "      <th>country</th>\n",
       "      <th>market_segment</th>\n",
       "      <th>is_repeated_guest</th>\n",
       "      <th>previous_cancellations</th>\n",
       "      <th>reservation_status</th>\n",
       "    </tr>\n",
       "  </thead>\n",
       "  <tbody>\n",
       "    <tr>\n",
       "      <th>0</th>\n",
       "      <td>Resort Hotel</td>\n",
       "      <td>No</td>\n",
       "      <td>2015</td>\n",
       "      <td>July</td>\n",
       "      <td>1</td>\n",
       "      <td>PRT</td>\n",
       "      <td>Direct</td>\n",
       "      <td>No</td>\n",
       "      <td>0</td>\n",
       "      <td>Check-Out</td>\n",
       "    </tr>\n",
       "    <tr>\n",
       "      <th>1</th>\n",
       "      <td>Resort Hotel</td>\n",
       "      <td>No</td>\n",
       "      <td>2015</td>\n",
       "      <td>July</td>\n",
       "      <td>1</td>\n",
       "      <td>PRT</td>\n",
       "      <td>Direct</td>\n",
       "      <td>No</td>\n",
       "      <td>0</td>\n",
       "      <td>Check-Out</td>\n",
       "    </tr>\n",
       "    <tr>\n",
       "      <th>2</th>\n",
       "      <td>Resort Hotel</td>\n",
       "      <td>No</td>\n",
       "      <td>2015</td>\n",
       "      <td>July</td>\n",
       "      <td>1</td>\n",
       "      <td>GBR</td>\n",
       "      <td>Direct</td>\n",
       "      <td>No</td>\n",
       "      <td>0</td>\n",
       "      <td>Check-Out</td>\n",
       "    </tr>\n",
       "    <tr>\n",
       "      <th>3</th>\n",
       "      <td>Resort Hotel</td>\n",
       "      <td>No</td>\n",
       "      <td>2015</td>\n",
       "      <td>July</td>\n",
       "      <td>1</td>\n",
       "      <td>GBR</td>\n",
       "      <td>Corporate</td>\n",
       "      <td>No</td>\n",
       "      <td>0</td>\n",
       "      <td>Check-Out</td>\n",
       "    </tr>\n",
       "    <tr>\n",
       "      <th>4</th>\n",
       "      <td>Resort Hotel</td>\n",
       "      <td>No</td>\n",
       "      <td>2015</td>\n",
       "      <td>July</td>\n",
       "      <td>1</td>\n",
       "      <td>GBR</td>\n",
       "      <td>Online TA</td>\n",
       "      <td>No</td>\n",
       "      <td>0</td>\n",
       "      <td>Check-Out</td>\n",
       "    </tr>\n",
       "  </tbody>\n",
       "</table>\n",
       "</div>"
      ],
      "text/plain": [
       "          hotel is_canceled  arrival_date_year arrival_date_month  \\\n",
       "0  Resort Hotel          No               2015               July   \n",
       "1  Resort Hotel          No               2015               July   \n",
       "2  Resort Hotel          No               2015               July   \n",
       "3  Resort Hotel          No               2015               July   \n",
       "4  Resort Hotel          No               2015               July   \n",
       "\n",
       "   arrival_date_day country market_segment is_repeated_guest  \\\n",
       "0                 1     PRT         Direct                No   \n",
       "1                 1     PRT         Direct                No   \n",
       "2                 1     GBR         Direct                No   \n",
       "3                 1     GBR      Corporate                No   \n",
       "4                 1     GBR      Online TA                No   \n",
       "\n",
       "   previous_cancellations reservation_status  \n",
       "0                       0          Check-Out  \n",
       "1                       0          Check-Out  \n",
       "2                       0          Check-Out  \n",
       "3                       0          Check-Out  \n",
       "4                       0          Check-Out  "
      ]
     },
     "execution_count": 52,
     "metadata": {},
     "output_type": "execute_result"
    }
   ],
   "source": [
    "hotel_bookings.head()"
   ]
  },
  {
   "cell_type": "markdown",
   "id": "9d9fc8e2",
   "metadata": {},
   "source": [
    "# City Hotel"
   ]
  },
  {
   "cell_type": "code",
   "execution_count": 53,
   "id": "50a164f5",
   "metadata": {},
   "outputs": [],
   "source": [
    "city_hotel = hotel_bookings[hotel_bookings['hotel'] == 'City Hotel']"
   ]
  },
  {
   "cell_type": "code",
   "execution_count": 54,
   "id": "b9193066",
   "metadata": {},
   "outputs": [
    {
     "data": {
      "text/html": [
       "<div>\n",
       "<style scoped>\n",
       "    .dataframe tbody tr th:only-of-type {\n",
       "        vertical-align: middle;\n",
       "    }\n",
       "\n",
       "    .dataframe tbody tr th {\n",
       "        vertical-align: top;\n",
       "    }\n",
       "\n",
       "    .dataframe thead th {\n",
       "        text-align: right;\n",
       "    }\n",
       "</style>\n",
       "<table border=\"1\" class=\"dataframe\">\n",
       "  <thead>\n",
       "    <tr style=\"text-align: right;\">\n",
       "      <th></th>\n",
       "      <th>hotel</th>\n",
       "      <th>is_canceled</th>\n",
       "      <th>arrival_date_year</th>\n",
       "      <th>arrival_date_month</th>\n",
       "      <th>arrival_date_day</th>\n",
       "      <th>country</th>\n",
       "      <th>market_segment</th>\n",
       "      <th>is_repeated_guest</th>\n",
       "      <th>previous_cancellations</th>\n",
       "      <th>reservation_status</th>\n",
       "    </tr>\n",
       "  </thead>\n",
       "  <tbody>\n",
       "    <tr>\n",
       "      <th>40060</th>\n",
       "      <td>City Hotel</td>\n",
       "      <td>No</td>\n",
       "      <td>2015</td>\n",
       "      <td>July</td>\n",
       "      <td>1</td>\n",
       "      <td>PRT</td>\n",
       "      <td>Offline TA/TO</td>\n",
       "      <td>No</td>\n",
       "      <td>0</td>\n",
       "      <td>Check-Out</td>\n",
       "    </tr>\n",
       "    <tr>\n",
       "      <th>40061</th>\n",
       "      <td>City Hotel</td>\n",
       "      <td>Yes</td>\n",
       "      <td>2015</td>\n",
       "      <td>July</td>\n",
       "      <td>1</td>\n",
       "      <td>PRT</td>\n",
       "      <td>Online TA</td>\n",
       "      <td>No</td>\n",
       "      <td>0</td>\n",
       "      <td>Canceled</td>\n",
       "    </tr>\n",
       "    <tr>\n",
       "      <th>40062</th>\n",
       "      <td>City Hotel</td>\n",
       "      <td>Yes</td>\n",
       "      <td>2015</td>\n",
       "      <td>July</td>\n",
       "      <td>1</td>\n",
       "      <td>PRT</td>\n",
       "      <td>Online TA</td>\n",
       "      <td>No</td>\n",
       "      <td>0</td>\n",
       "      <td>Canceled</td>\n",
       "    </tr>\n",
       "    <tr>\n",
       "      <th>40063</th>\n",
       "      <td>City Hotel</td>\n",
       "      <td>Yes</td>\n",
       "      <td>2015</td>\n",
       "      <td>July</td>\n",
       "      <td>1</td>\n",
       "      <td>PRT</td>\n",
       "      <td>Online TA</td>\n",
       "      <td>No</td>\n",
       "      <td>0</td>\n",
       "      <td>Canceled</td>\n",
       "    </tr>\n",
       "    <tr>\n",
       "      <th>40064</th>\n",
       "      <td>City Hotel</td>\n",
       "      <td>Yes</td>\n",
       "      <td>2015</td>\n",
       "      <td>July</td>\n",
       "      <td>2</td>\n",
       "      <td>PRT</td>\n",
       "      <td>Online TA</td>\n",
       "      <td>No</td>\n",
       "      <td>0</td>\n",
       "      <td>Canceled</td>\n",
       "    </tr>\n",
       "  </tbody>\n",
       "</table>\n",
       "</div>"
      ],
      "text/plain": [
       "            hotel is_canceled  arrival_date_year arrival_date_month  \\\n",
       "40060  City Hotel          No               2015               July   \n",
       "40061  City Hotel         Yes               2015               July   \n",
       "40062  City Hotel         Yes               2015               July   \n",
       "40063  City Hotel         Yes               2015               July   \n",
       "40064  City Hotel         Yes               2015               July   \n",
       "\n",
       "       arrival_date_day country market_segment is_repeated_guest  \\\n",
       "40060                 1     PRT  Offline TA/TO                No   \n",
       "40061                 1     PRT      Online TA                No   \n",
       "40062                 1     PRT      Online TA                No   \n",
       "40063                 1     PRT      Online TA                No   \n",
       "40064                 2     PRT      Online TA                No   \n",
       "\n",
       "       previous_cancellations reservation_status  \n",
       "40060                       0          Check-Out  \n",
       "40061                       0           Canceled  \n",
       "40062                       0           Canceled  \n",
       "40063                       0           Canceled  \n",
       "40064                       0           Canceled  "
      ]
     },
     "execution_count": 54,
     "metadata": {},
     "output_type": "execute_result"
    }
   ],
   "source": [
    "city_hotel.head()"
   ]
  },
  {
   "cell_type": "code",
   "execution_count": 55,
   "id": "b0e13567",
   "metadata": {},
   "outputs": [
    {
     "data": {
      "text/plain": [
       "Online TA        38748\n",
       "Offline TA/TO    16747\n",
       "Groups           13975\n",
       "Direct            6093\n",
       "Corporate         2986\n",
       "Complementary      542\n",
       "Aviation           237\n",
       "Undefined            2\n",
       "Name: market_segment, dtype: int64"
      ]
     },
     "execution_count": 55,
     "metadata": {},
     "output_type": "execute_result"
    }
   ],
   "source": [
    "city_hotel['market_segment'].value_counts()"
   ]
  },
  {
   "cell_type": "code",
   "execution_count": 56,
   "id": "9a7d95fb",
   "metadata": {},
   "outputs": [
    {
     "data": {
      "text/plain": [
       "<Axes: title={'center': 'A Bar Graph of Market Segment for City Hotels'}>"
      ]
     },
     "execution_count": 56,
     "metadata": {},
     "output_type": "execute_result"
    },
    {
     "data": {
      "image/png": "[encoded data removed]",
      "text/plain": [
       "<Figure size 640x480 with 1 Axes>"
      ]
     },
     "metadata": {},
     "output_type": "display_data"
    }
   ],
   "source": [
    "city_hotel['market_segment'].value_counts().plot(kind = 'barh', title = 'A Bar Graph of Market Segment for City Hotels')"
   ]
  },
  {
   "cell_type": "markdown",
   "id": "5d63e136",
   "metadata": {},
   "source": [
    "It can be observed that, for City Hotels, the Online Travel Agents (TAs) have more members representing, followed by the Offine TA/TO,Groups, Direct, Corporate, Complementary, Aviation and only two(2) members are undefined"
   ]
  },
  {
   "cell_type": "code",
   "execution_count": null,
   "id": "6580c0d0",
   "metadata": {},
   "outputs": [],
   "source": []
  },
  {
   "cell_type": "markdown",
   "id": "58634f7d",
   "metadata": {},
   "source": [
    "# Resort Hotel"
   ]
  },
  {
   "cell_type": "code",
   "execution_count": 57,
   "id": "18ded9d1",
   "metadata": {},
   "outputs": [
    {
     "data": {
      "text/html": [
       "<div>\n",
       "<style scoped>\n",
       "    .dataframe tbody tr th:only-of-type {\n",
       "        vertical-align: middle;\n",
       "    }\n",
       "\n",
       "    .dataframe tbody tr th {\n",
       "        vertical-align: top;\n",
       "    }\n",
       "\n",
       "    .dataframe thead th {\n",
       "        text-align: right;\n",
       "    }\n",
       "</style>\n",
       "<table border=\"1\" class=\"dataframe\">\n",
       "  <thead>\n",
       "    <tr style=\"text-align: right;\">\n",
       "      <th></th>\n",
       "      <th>hotel</th>\n",
       "      <th>is_canceled</th>\n",
       "      <th>arrival_date_year</th>\n",
       "      <th>arrival_date_month</th>\n",
       "      <th>arrival_date_day</th>\n",
       "      <th>country</th>\n",
       "      <th>market_segment</th>\n",
       "      <th>is_repeated_guest</th>\n",
       "      <th>previous_cancellations</th>\n",
       "      <th>reservation_status</th>\n",
       "    </tr>\n",
       "  </thead>\n",
       "  <tbody>\n",
       "    <tr>\n",
       "      <th>0</th>\n",
       "      <td>Resort Hotel</td>\n",
       "      <td>No</td>\n",
       "      <td>2015</td>\n",
       "      <td>July</td>\n",
       "      <td>1</td>\n",
       "      <td>PRT</td>\n",
       "      <td>Direct</td>\n",
       "      <td>No</td>\n",
       "      <td>0</td>\n",
       "      <td>Check-Out</td>\n",
       "    </tr>\n",
       "    <tr>\n",
       "      <th>1</th>\n",
       "      <td>Resort Hotel</td>\n",
       "      <td>No</td>\n",
       "      <td>2015</td>\n",
       "      <td>July</td>\n",
       "      <td>1</td>\n",
       "      <td>PRT</td>\n",
       "      <td>Direct</td>\n",
       "      <td>No</td>\n",
       "      <td>0</td>\n",
       "      <td>Check-Out</td>\n",
       "    </tr>\n",
       "    <tr>\n",
       "      <th>2</th>\n",
       "      <td>Resort Hotel</td>\n",
       "      <td>No</td>\n",
       "      <td>2015</td>\n",
       "      <td>July</td>\n",
       "      <td>1</td>\n",
       "      <td>GBR</td>\n",
       "      <td>Direct</td>\n",
       "      <td>No</td>\n",
       "      <td>0</td>\n",
       "      <td>Check-Out</td>\n",
       "    </tr>\n",
       "    <tr>\n",
       "      <th>3</th>\n",
       "      <td>Resort Hotel</td>\n",
       "      <td>No</td>\n",
       "      <td>2015</td>\n",
       "      <td>July</td>\n",
       "      <td>1</td>\n",
       "      <td>GBR</td>\n",
       "      <td>Corporate</td>\n",
       "      <td>No</td>\n",
       "      <td>0</td>\n",
       "      <td>Check-Out</td>\n",
       "    </tr>\n",
       "    <tr>\n",
       "      <th>4</th>\n",
       "      <td>Resort Hotel</td>\n",
       "      <td>No</td>\n",
       "      <td>2015</td>\n",
       "      <td>July</td>\n",
       "      <td>1</td>\n",
       "      <td>GBR</td>\n",
       "      <td>Online TA</td>\n",
       "      <td>No</td>\n",
       "      <td>0</td>\n",
       "      <td>Check-Out</td>\n",
       "    </tr>\n",
       "  </tbody>\n",
       "</table>\n",
       "</div>"
      ],
      "text/plain": [
       "          hotel is_canceled  arrival_date_year arrival_date_month  \\\n",
       "0  Resort Hotel          No               2015               July   \n",
       "1  Resort Hotel          No               2015               July   \n",
       "2  Resort Hotel          No               2015               July   \n",
       "3  Resort Hotel          No               2015               July   \n",
       "4  Resort Hotel          No               2015               July   \n",
       "\n",
       "   arrival_date_day country market_segment is_repeated_guest  \\\n",
       "0                 1     PRT         Direct                No   \n",
       "1                 1     PRT         Direct                No   \n",
       "2                 1     GBR         Direct                No   \n",
       "3                 1     GBR      Corporate                No   \n",
       "4                 1     GBR      Online TA                No   \n",
       "\n",
       "   previous_cancellations reservation_status  \n",
       "0                       0          Check-Out  \n",
       "1                       0          Check-Out  \n",
       "2                       0          Check-Out  \n",
       "3                       0          Check-Out  \n",
       "4                       0          Check-Out  "
      ]
     },
     "execution_count": 57,
     "metadata": {},
     "output_type": "execute_result"
    }
   ],
   "source": [
    "hotel_bookings.head()"
   ]
  },
  {
   "cell_type": "code",
   "execution_count": 58,
   "id": "157cbf24",
   "metadata": {},
   "outputs": [],
   "source": [
    "resort_hotel = hotel_bookings[hotel_bookings['hotel'] == 'Resort Hotel']"
   ]
  },
  {
   "cell_type": "code",
   "execution_count": 59,
   "id": "18c82a66",
   "metadata": {},
   "outputs": [
    {
     "data": {
      "text/html": [
       "<div>\n",
       "<style scoped>\n",
       "    .dataframe tbody tr th:only-of-type {\n",
       "        vertical-align: middle;\n",
       "    }\n",
       "\n",
       "    .dataframe tbody tr th {\n",
       "        vertical-align: top;\n",
       "    }\n",
       "\n",
       "    .dataframe thead th {\n",
       "        text-align: right;\n",
       "    }\n",
       "</style>\n",
       "<table border=\"1\" class=\"dataframe\">\n",
       "  <thead>\n",
       "    <tr style=\"text-align: right;\">\n",
       "      <th></th>\n",
       "      <th>hotel</th>\n",
       "      <th>is_canceled</th>\n",
       "      <th>arrival_date_year</th>\n",
       "      <th>arrival_date_month</th>\n",
       "      <th>arrival_date_day</th>\n",
       "      <th>country</th>\n",
       "      <th>market_segment</th>\n",
       "      <th>is_repeated_guest</th>\n",
       "      <th>previous_cancellations</th>\n",
       "      <th>reservation_status</th>\n",
       "    </tr>\n",
       "  </thead>\n",
       "  <tbody>\n",
       "    <tr>\n",
       "      <th>0</th>\n",
       "      <td>Resort Hotel</td>\n",
       "      <td>No</td>\n",
       "      <td>2015</td>\n",
       "      <td>July</td>\n",
       "      <td>1</td>\n",
       "      <td>PRT</td>\n",
       "      <td>Direct</td>\n",
       "      <td>No</td>\n",
       "      <td>0</td>\n",
       "      <td>Check-Out</td>\n",
       "    </tr>\n",
       "    <tr>\n",
       "      <th>1</th>\n",
       "      <td>Resort Hotel</td>\n",
       "      <td>No</td>\n",
       "      <td>2015</td>\n",
       "      <td>July</td>\n",
       "      <td>1</td>\n",
       "      <td>PRT</td>\n",
       "      <td>Direct</td>\n",
       "      <td>No</td>\n",
       "      <td>0</td>\n",
       "      <td>Check-Out</td>\n",
       "    </tr>\n",
       "    <tr>\n",
       "      <th>2</th>\n",
       "      <td>Resort Hotel</td>\n",
       "      <td>No</td>\n",
       "      <td>2015</td>\n",
       "      <td>July</td>\n",
       "      <td>1</td>\n",
       "      <td>GBR</td>\n",
       "      <td>Direct</td>\n",
       "      <td>No</td>\n",
       "      <td>0</td>\n",
       "      <td>Check-Out</td>\n",
       "    </tr>\n",
       "    <tr>\n",
       "      <th>3</th>\n",
       "      <td>Resort Hotel</td>\n",
       "      <td>No</td>\n",
       "      <td>2015</td>\n",
       "      <td>July</td>\n",
       "      <td>1</td>\n",
       "      <td>GBR</td>\n",
       "      <td>Corporate</td>\n",
       "      <td>No</td>\n",
       "      <td>0</td>\n",
       "      <td>Check-Out</td>\n",
       "    </tr>\n",
       "    <tr>\n",
       "      <th>4</th>\n",
       "      <td>Resort Hotel</td>\n",
       "      <td>No</td>\n",
       "      <td>2015</td>\n",
       "      <td>July</td>\n",
       "      <td>1</td>\n",
       "      <td>GBR</td>\n",
       "      <td>Online TA</td>\n",
       "      <td>No</td>\n",
       "      <td>0</td>\n",
       "      <td>Check-Out</td>\n",
       "    </tr>\n",
       "  </tbody>\n",
       "</table>\n",
       "</div>"
      ],
      "text/plain": [
       "          hotel is_canceled  arrival_date_year arrival_date_month  \\\n",
       "0  Resort Hotel          No               2015               July   \n",
       "1  Resort Hotel          No               2015               July   \n",
       "2  Resort Hotel          No               2015               July   \n",
       "3  Resort Hotel          No               2015               July   \n",
       "4  Resort Hotel          No               2015               July   \n",
       "\n",
       "   arrival_date_day country market_segment is_repeated_guest  \\\n",
       "0                 1     PRT         Direct                No   \n",
       "1                 1     PRT         Direct                No   \n",
       "2                 1     GBR         Direct                No   \n",
       "3                 1     GBR      Corporate                No   \n",
       "4                 1     GBR      Online TA                No   \n",
       "\n",
       "   previous_cancellations reservation_status  \n",
       "0                       0          Check-Out  \n",
       "1                       0          Check-Out  \n",
       "2                       0          Check-Out  \n",
       "3                       0          Check-Out  \n",
       "4                       0          Check-Out  "
      ]
     },
     "execution_count": 59,
     "metadata": {},
     "output_type": "execute_result"
    }
   ],
   "source": [
    "resort_hotel.head()"
   ]
  },
  {
   "cell_type": "code",
   "execution_count": 60,
   "id": "67f75e2a",
   "metadata": {},
   "outputs": [
    {
     "data": {
      "text/plain": [
       "Online TA        17729\n",
       "Offline TA/TO     7472\n",
       "Direct            6513\n",
       "Groups            5836\n",
       "Corporate         2309\n",
       "Complementary      201\n",
       "Name: market_segment, dtype: int64"
      ]
     },
     "execution_count": 60,
     "metadata": {},
     "output_type": "execute_result"
    }
   ],
   "source": [
    "resort_hotel['market_segment'].value_counts()"
   ]
  },
  {
   "cell_type": "code",
   "execution_count": 61,
   "id": "87a635e3",
   "metadata": {},
   "outputs": [
    {
     "data": {
      "text/plain": [
       "<Axes: title={'center': 'A Bar Graph of Market Segment for Resort Hotels'}>"
      ]
     },
     "execution_count": 61,
     "metadata": {},
     "output_type": "execute_result"
    },
    {
     "data": {
      "image/png": "[encoded data removed]",
      "text/plain": [
       "<Figure size 640x480 with 1 Axes>"
      ]
     },
     "metadata": {},
     "output_type": "display_data"
    }
   ],
   "source": [
    "resort_hotel['market_segment'].value_counts().plot(kind = 'barh', title = 'A Bar Graph of Market Segment for Resort Hotels')"
   ]
  },
  {
   "cell_type": "markdown",
   "id": "087bbc15",
   "metadata": {},
   "source": [
    "It is observed that the Online Travel Agents(TAs) have more members representing, followed by the Offline TA/TO, Direct,Groups,Corporate and Complementary"
   ]
  },
  {
   "cell_type": "code",
   "execution_count": null,
   "id": "b397639f",
   "metadata": {},
   "outputs": [],
   "source": []
  },
  {
   "cell_type": "markdown",
   "id": "4292c976",
   "metadata": {},
   "source": [
    "# Cleaning\n",
    "\n",
    "Finally, the country column has some null values.\n",
    "\n",
    "We would want to take these empty rows out.\n",
    "\n",
    "Let us delete them, and check the shape of our data now\n"
   ]
  },
  {
   "cell_type": "code",
   "execution_count": 62,
   "id": "ab16be3f",
   "metadata": {},
   "outputs": [
    {
     "data": {
      "text/html": [
       "<div>\n",
       "<style scoped>\n",
       "    .dataframe tbody tr th:only-of-type {\n",
       "        vertical-align: middle;\n",
       "    }\n",
       "\n",
       "    .dataframe tbody tr th {\n",
       "        vertical-align: top;\n",
       "    }\n",
       "\n",
       "    .dataframe thead th {\n",
       "        text-align: right;\n",
       "    }\n",
       "</style>\n",
       "<table border=\"1\" class=\"dataframe\">\n",
       "  <thead>\n",
       "    <tr style=\"text-align: right;\">\n",
       "      <th></th>\n",
       "      <th>hotel</th>\n",
       "      <th>is_canceled</th>\n",
       "      <th>arrival_date_year</th>\n",
       "      <th>arrival_date_month</th>\n",
       "      <th>arrival_date_day</th>\n",
       "      <th>country</th>\n",
       "      <th>market_segment</th>\n",
       "      <th>is_repeated_guest</th>\n",
       "      <th>previous_cancellations</th>\n",
       "      <th>reservation_status</th>\n",
       "    </tr>\n",
       "  </thead>\n",
       "  <tbody>\n",
       "    <tr>\n",
       "      <th>0</th>\n",
       "      <td>Resort Hotel</td>\n",
       "      <td>No</td>\n",
       "      <td>2015</td>\n",
       "      <td>July</td>\n",
       "      <td>1</td>\n",
       "      <td>PRT</td>\n",
       "      <td>Direct</td>\n",
       "      <td>No</td>\n",
       "      <td>0</td>\n",
       "      <td>Check-Out</td>\n",
       "    </tr>\n",
       "    <tr>\n",
       "      <th>1</th>\n",
       "      <td>Resort Hotel</td>\n",
       "      <td>No</td>\n",
       "      <td>2015</td>\n",
       "      <td>July</td>\n",
       "      <td>1</td>\n",
       "      <td>PRT</td>\n",
       "      <td>Direct</td>\n",
       "      <td>No</td>\n",
       "      <td>0</td>\n",
       "      <td>Check-Out</td>\n",
       "    </tr>\n",
       "    <tr>\n",
       "      <th>2</th>\n",
       "      <td>Resort Hotel</td>\n",
       "      <td>No</td>\n",
       "      <td>2015</td>\n",
       "      <td>July</td>\n",
       "      <td>1</td>\n",
       "      <td>GBR</td>\n",
       "      <td>Direct</td>\n",
       "      <td>No</td>\n",
       "      <td>0</td>\n",
       "      <td>Check-Out</td>\n",
       "    </tr>\n",
       "    <tr>\n",
       "      <th>3</th>\n",
       "      <td>Resort Hotel</td>\n",
       "      <td>No</td>\n",
       "      <td>2015</td>\n",
       "      <td>July</td>\n",
       "      <td>1</td>\n",
       "      <td>GBR</td>\n",
       "      <td>Corporate</td>\n",
       "      <td>No</td>\n",
       "      <td>0</td>\n",
       "      <td>Check-Out</td>\n",
       "    </tr>\n",
       "    <tr>\n",
       "      <th>4</th>\n",
       "      <td>Resort Hotel</td>\n",
       "      <td>No</td>\n",
       "      <td>2015</td>\n",
       "      <td>July</td>\n",
       "      <td>1</td>\n",
       "      <td>GBR</td>\n",
       "      <td>Online TA</td>\n",
       "      <td>No</td>\n",
       "      <td>0</td>\n",
       "      <td>Check-Out</td>\n",
       "    </tr>\n",
       "  </tbody>\n",
       "</table>\n",
       "</div>"
      ],
      "text/plain": [
       "          hotel is_canceled  arrival_date_year arrival_date_month  \\\n",
       "0  Resort Hotel          No               2015               July   \n",
       "1  Resort Hotel          No               2015               July   \n",
       "2  Resort Hotel          No               2015               July   \n",
       "3  Resort Hotel          No               2015               July   \n",
       "4  Resort Hotel          No               2015               July   \n",
       "\n",
       "   arrival_date_day country market_segment is_repeated_guest  \\\n",
       "0                 1     PRT         Direct                No   \n",
       "1                 1     PRT         Direct                No   \n",
       "2                 1     GBR         Direct                No   \n",
       "3                 1     GBR      Corporate                No   \n",
       "4                 1     GBR      Online TA                No   \n",
       "\n",
       "   previous_cancellations reservation_status  \n",
       "0                       0          Check-Out  \n",
       "1                       0          Check-Out  \n",
       "2                       0          Check-Out  \n",
       "3                       0          Check-Out  \n",
       "4                       0          Check-Out  "
      ]
     },
     "execution_count": 62,
     "metadata": {},
     "output_type": "execute_result"
    }
   ],
   "source": [
    "hotel_bookings.head()"
   ]
  },
  {
   "cell_type": "code",
   "execution_count": 63,
   "id": "171123c9",
   "metadata": {},
   "outputs": [
    {
     "data": {
      "text/plain": [
       "hotel                       0\n",
       "is_canceled                 0\n",
       "arrival_date_year           0\n",
       "arrival_date_month          0\n",
       "arrival_date_day            0\n",
       "country                   488\n",
       "market_segment              0\n",
       "is_repeated_guest           0\n",
       "previous_cancellations      0\n",
       "reservation_status          0\n",
       "dtype: int64"
      ]
     },
     "execution_count": 63,
     "metadata": {},
     "output_type": "execute_result"
    }
   ],
   "source": [
    "hotel_bookings.isnull().sum()"
   ]
  },
  {
   "cell_type": "code",
   "execution_count": 64,
   "id": "65dac528",
   "metadata": {},
   "outputs": [],
   "source": [
    "hotel_bookings.dropna(subset=['country'], inplace = True)"
   ]
  },
  {
   "cell_type": "code",
   "execution_count": 65,
   "id": "8c11f38a",
   "metadata": {},
   "outputs": [
    {
     "data": {
      "text/plain": [
       "(118902, 10)"
      ]
     },
     "execution_count": 65,
     "metadata": {},
     "output_type": "execute_result"
    }
   ],
   "source": [
    "hotel_bookings.shape"
   ]
  },
  {
   "cell_type": "code",
   "execution_count": 66,
   "id": "37568009",
   "metadata": {},
   "outputs": [
    {
     "data": {
      "text/plain": [
       "hotel                     0\n",
       "is_canceled               0\n",
       "arrival_date_year         0\n",
       "arrival_date_month        0\n",
       "arrival_date_day          0\n",
       "country                   0\n",
       "market_segment            0\n",
       "is_repeated_guest         0\n",
       "previous_cancellations    0\n",
       "reservation_status        0\n",
       "dtype: int64"
      ]
     },
     "execution_count": 66,
     "metadata": {},
     "output_type": "execute_result"
    }
   ],
   "source": [
    "hotel_bookings.isnull().sum()"
   ]
  },
  {
   "cell_type": "code",
   "execution_count": null,
   "id": "4a261aa0",
   "metadata": {},
   "outputs": [],
   "source": []
  },
  {
   "cell_type": "code",
   "execution_count": null,
   "id": "cd440eef",
   "metadata": {},
   "outputs": [],
   "source": []
  },
  {
   "cell_type": "markdown",
   "id": "b7acc2aa",
   "metadata": {},
   "source": [
    "# Cleaning\n",
    "\n",
    "You would notice that the arrival dates are in separate columns of **year, month and day**\n",
    "\n",
    "We would want to combine these three columns as one.\n",
    "\n",
    "<u>Hint: \n",
    "    \n",
    "Your final column should have data that looks like **1990-May-17**\n",
    "    \n",
    "    \n",
    "<u>**Steps**\n",
    "\n",
    "-  Create a new column called *arrival_date*, that is **data['arrival_date']** and equate it to addition these 3 columns,separated by dashes. \n",
    "\n",
    "    This is just like the concept of adding strings together\n",
    "    \n",
    "\n",
    "- NB -- If any of these column types is numerical, it has to be converted to a string before joining with the + sign.\n",
    "    \n",
    "    This is done with .astype(str)\n",
    "\n"
   ]
  },
  {
   "cell_type": "code",
   "execution_count": 67,
   "id": "fdc2eb28",
   "metadata": {},
   "outputs": [
    {
     "data": {
      "text/html": [
       "<div>\n",
       "<style scoped>\n",
       "    .dataframe tbody tr th:only-of-type {\n",
       "        vertical-align: middle;\n",
       "    }\n",
       "\n",
       "    .dataframe tbody tr th {\n",
       "        vertical-align: top;\n",
       "    }\n",
       "\n",
       "    .dataframe thead th {\n",
       "        text-align: right;\n",
       "    }\n",
       "</style>\n",
       "<table border=\"1\" class=\"dataframe\">\n",
       "  <thead>\n",
       "    <tr style=\"text-align: right;\">\n",
       "      <th></th>\n",
       "      <th>hotel</th>\n",
       "      <th>is_canceled</th>\n",
       "      <th>arrival_date_year</th>\n",
       "      <th>arrival_date_month</th>\n",
       "      <th>arrival_date_day</th>\n",
       "      <th>country</th>\n",
       "      <th>market_segment</th>\n",
       "      <th>is_repeated_guest</th>\n",
       "      <th>previous_cancellations</th>\n",
       "      <th>reservation_status</th>\n",
       "    </tr>\n",
       "  </thead>\n",
       "  <tbody>\n",
       "    <tr>\n",
       "      <th>0</th>\n",
       "      <td>Resort Hotel</td>\n",
       "      <td>No</td>\n",
       "      <td>2015</td>\n",
       "      <td>July</td>\n",
       "      <td>1</td>\n",
       "      <td>PRT</td>\n",
       "      <td>Direct</td>\n",
       "      <td>No</td>\n",
       "      <td>0</td>\n",
       "      <td>Check-Out</td>\n",
       "    </tr>\n",
       "    <tr>\n",
       "      <th>1</th>\n",
       "      <td>Resort Hotel</td>\n",
       "      <td>No</td>\n",
       "      <td>2015</td>\n",
       "      <td>July</td>\n",
       "      <td>1</td>\n",
       "      <td>PRT</td>\n",
       "      <td>Direct</td>\n",
       "      <td>No</td>\n",
       "      <td>0</td>\n",
       "      <td>Check-Out</td>\n",
       "    </tr>\n",
       "    <tr>\n",
       "      <th>2</th>\n",
       "      <td>Resort Hotel</td>\n",
       "      <td>No</td>\n",
       "      <td>2015</td>\n",
       "      <td>July</td>\n",
       "      <td>1</td>\n",
       "      <td>GBR</td>\n",
       "      <td>Direct</td>\n",
       "      <td>No</td>\n",
       "      <td>0</td>\n",
       "      <td>Check-Out</td>\n",
       "    </tr>\n",
       "    <tr>\n",
       "      <th>3</th>\n",
       "      <td>Resort Hotel</td>\n",
       "      <td>No</td>\n",
       "      <td>2015</td>\n",
       "      <td>July</td>\n",
       "      <td>1</td>\n",
       "      <td>GBR</td>\n",
       "      <td>Corporate</td>\n",
       "      <td>No</td>\n",
       "      <td>0</td>\n",
       "      <td>Check-Out</td>\n",
       "    </tr>\n",
       "    <tr>\n",
       "      <th>4</th>\n",
       "      <td>Resort Hotel</td>\n",
       "      <td>No</td>\n",
       "      <td>2015</td>\n",
       "      <td>July</td>\n",
       "      <td>1</td>\n",
       "      <td>GBR</td>\n",
       "      <td>Online TA</td>\n",
       "      <td>No</td>\n",
       "      <td>0</td>\n",
       "      <td>Check-Out</td>\n",
       "    </tr>\n",
       "  </tbody>\n",
       "</table>\n",
       "</div>"
      ],
      "text/plain": [
       "          hotel is_canceled  arrival_date_year arrival_date_month  \\\n",
       "0  Resort Hotel          No               2015               July   \n",
       "1  Resort Hotel          No               2015               July   \n",
       "2  Resort Hotel          No               2015               July   \n",
       "3  Resort Hotel          No               2015               July   \n",
       "4  Resort Hotel          No               2015               July   \n",
       "\n",
       "   arrival_date_day country market_segment is_repeated_guest  \\\n",
       "0                 1     PRT         Direct                No   \n",
       "1                 1     PRT         Direct                No   \n",
       "2                 1     GBR         Direct                No   \n",
       "3                 1     GBR      Corporate                No   \n",
       "4                 1     GBR      Online TA                No   \n",
       "\n",
       "   previous_cancellations reservation_status  \n",
       "0                       0          Check-Out  \n",
       "1                       0          Check-Out  \n",
       "2                       0          Check-Out  \n",
       "3                       0          Check-Out  \n",
       "4                       0          Check-Out  "
      ]
     },
     "execution_count": 67,
     "metadata": {},
     "output_type": "execute_result"
    }
   ],
   "source": [
    "hotel_bookings.head()"
   ]
  },
  {
   "cell_type": "code",
   "execution_count": 68,
   "id": "e06646e9",
   "metadata": {},
   "outputs": [
    {
     "name": "stdout",
     "output_type": "stream",
     "text": [
      "<class 'pandas.core.frame.DataFrame'>\n",
      "Int64Index: 118902 entries, 0 to 119389\n",
      "Data columns (total 10 columns):\n",
      " #   Column                  Non-Null Count   Dtype \n",
      "---  ------                  --------------   ----- \n",
      " 0   hotel                   118902 non-null  object\n",
      " 1   is_canceled             118902 non-null  object\n",
      " 2   arrival_date_year       118902 non-null  int64 \n",
      " 3   arrival_date_month      118902 non-null  object\n",
      " 4   arrival_date_day        118902 non-null  int64 \n",
      " 5   country                 118902 non-null  object\n",
      " 6   market_segment          118902 non-null  object\n",
      " 7   is_repeated_guest       118902 non-null  object\n",
      " 8   previous_cancellations  118902 non-null  int64 \n",
      " 9   reservation_status      118902 non-null  object\n",
      "dtypes: int64(3), object(7)\n",
      "memory usage: 10.0+ MB\n"
     ]
    }
   ],
   "source": [
    "hotel_bookings.info()"
   ]
  },
  {
   "cell_type": "markdown",
   "id": "111bd384",
   "metadata": {},
   "source": [
    "It is observed that the data types of 'arrival_date_year' and 'arrival_date_day' are int. We may want to convert them to string in order to make any edits or changes to these columns"
   ]
  },
  {
   "cell_type": "code",
   "execution_count": 69,
   "id": "5bbbd16a",
   "metadata": {},
   "outputs": [],
   "source": [
    "hotel_bookings['arrival_date_year'] = hotel_bookings['arrival_date_year'].astype(str)"
   ]
  },
  {
   "cell_type": "code",
   "execution_count": 70,
   "id": "5dd2bc24",
   "metadata": {},
   "outputs": [],
   "source": [
    "hotel_bookings['arrival_date_day'] = hotel_bookings['arrival_date_day'].astype(str)"
   ]
  },
  {
   "cell_type": "code",
   "execution_count": 71,
   "id": "e0373b31",
   "metadata": {},
   "outputs": [
    {
     "name": "stdout",
     "output_type": "stream",
     "text": [
      "<class 'pandas.core.frame.DataFrame'>\n",
      "Int64Index: 118902 entries, 0 to 119389\n",
      "Data columns (total 10 columns):\n",
      " #   Column                  Non-Null Count   Dtype \n",
      "---  ------                  --------------   ----- \n",
      " 0   hotel                   118902 non-null  object\n",
      " 1   is_canceled             118902 non-null  object\n",
      " 2   arrival_date_year       118902 non-null  object\n",
      " 3   arrival_date_month      118902 non-null  object\n",
      " 4   arrival_date_day        118902 non-null  object\n",
      " 5   country                 118902 non-null  object\n",
      " 6   market_segment          118902 non-null  object\n",
      " 7   is_repeated_guest       118902 non-null  object\n",
      " 8   previous_cancellations  118902 non-null  int64 \n",
      " 9   reservation_status      118902 non-null  object\n",
      "dtypes: int64(1), object(9)\n",
      "memory usage: 10.0+ MB\n"
     ]
    }
   ],
   "source": [
    "hotel_bookings.info()"
   ]
  },
  {
   "cell_type": "markdown",
   "id": "13d8109d",
   "metadata": {},
   "source": [
    "They've all been converted to strings. Now we can make changes to them."
   ]
  },
  {
   "cell_type": "code",
   "execution_count": 82,
   "id": "d892b841",
   "metadata": {},
   "outputs": [],
   "source": [
    "hotel_bookings['arrival_date'] = hotel_bookings['arrival_date_year']+['-']+hotel_bookings['arrival_date_month']+['-']+hotel_bookings['arrival_date_day']"
   ]
  },
  {
   "cell_type": "code",
   "execution_count": 83,
   "id": "37963e6b",
   "metadata": {},
   "outputs": [
    {
     "data": {
      "text/html": [
       "<div>\n",
       "<style scoped>\n",
       "    .dataframe tbody tr th:only-of-type {\n",
       "        vertical-align: middle;\n",
       "    }\n",
       "\n",
       "    .dataframe tbody tr th {\n",
       "        vertical-align: top;\n",
       "    }\n",
       "\n",
       "    .dataframe thead th {\n",
       "        text-align: right;\n",
       "    }\n",
       "</style>\n",
       "<table border=\"1\" class=\"dataframe\">\n",
       "  <thead>\n",
       "    <tr style=\"text-align: right;\">\n",
       "      <th></th>\n",
       "      <th>hotel</th>\n",
       "      <th>is_canceled</th>\n",
       "      <th>arrival_date_year</th>\n",
       "      <th>arrival_date_month</th>\n",
       "      <th>arrival_date_day</th>\n",
       "      <th>country</th>\n",
       "      <th>market_segment</th>\n",
       "      <th>is_repeated_guest</th>\n",
       "      <th>previous_cancellations</th>\n",
       "      <th>reservation_status</th>\n",
       "      <th>arrival_date</th>\n",
       "    </tr>\n",
       "  </thead>\n",
       "  <tbody>\n",
       "    <tr>\n",
       "      <th>0</th>\n",
       "      <td>Resort Hotel</td>\n",
       "      <td>No</td>\n",
       "      <td>2015</td>\n",
       "      <td>July</td>\n",
       "      <td>1</td>\n",
       "      <td>PRT</td>\n",
       "      <td>Direct</td>\n",
       "      <td>No</td>\n",
       "      <td>0</td>\n",
       "      <td>Check-Out</td>\n",
       "      <td>2015-July-1</td>\n",
       "    </tr>\n",
       "    <tr>\n",
       "      <th>1</th>\n",
       "      <td>Resort Hotel</td>\n",
       "      <td>No</td>\n",
       "      <td>2015</td>\n",
       "      <td>July</td>\n",
       "      <td>1</td>\n",
       "      <td>PRT</td>\n",
       "      <td>Direct</td>\n",
       "      <td>No</td>\n",
       "      <td>0</td>\n",
       "      <td>Check-Out</td>\n",
       "      <td>2015-July-1</td>\n",
       "    </tr>\n",
       "    <tr>\n",
       "      <th>2</th>\n",
       "      <td>Resort Hotel</td>\n",
       "      <td>No</td>\n",
       "      <td>2015</td>\n",
       "      <td>July</td>\n",
       "      <td>1</td>\n",
       "      <td>GBR</td>\n",
       "      <td>Direct</td>\n",
       "      <td>No</td>\n",
       "      <td>0</td>\n",
       "      <td>Check-Out</td>\n",
       "      <td>2015-July-1</td>\n",
       "    </tr>\n",
       "    <tr>\n",
       "      <th>3</th>\n",
       "      <td>Resort Hotel</td>\n",
       "      <td>No</td>\n",
       "      <td>2015</td>\n",
       "      <td>July</td>\n",
       "      <td>1</td>\n",
       "      <td>GBR</td>\n",
       "      <td>Corporate</td>\n",
       "      <td>No</td>\n",
       "      <td>0</td>\n",
       "      <td>Check-Out</td>\n",
       "      <td>2015-July-1</td>\n",
       "    </tr>\n",
       "    <tr>\n",
       "      <th>4</th>\n",
       "      <td>Resort Hotel</td>\n",
       "      <td>No</td>\n",
       "      <td>2015</td>\n",
       "      <td>July</td>\n",
       "      <td>1</td>\n",
       "      <td>GBR</td>\n",
       "      <td>Online TA</td>\n",
       "      <td>No</td>\n",
       "      <td>0</td>\n",
       "      <td>Check-Out</td>\n",
       "      <td>2015-July-1</td>\n",
       "    </tr>\n",
       "  </tbody>\n",
       "</table>\n",
       "</div>"
      ],
      "text/plain": [
       "          hotel is_canceled arrival_date_year arrival_date_month  \\\n",
       "0  Resort Hotel          No              2015               July   \n",
       "1  Resort Hotel          No              2015               July   \n",
       "2  Resort Hotel          No              2015               July   \n",
       "3  Resort Hotel          No              2015               July   \n",
       "4  Resort Hotel          No              2015               July   \n",
       "\n",
       "  arrival_date_day country market_segment is_repeated_guest  \\\n",
       "0                1     PRT         Direct                No   \n",
       "1                1     PRT         Direct                No   \n",
       "2                1     GBR         Direct                No   \n",
       "3                1     GBR      Corporate                No   \n",
       "4                1     GBR      Online TA                No   \n",
       "\n",
       "   previous_cancellations reservation_status arrival_date  \n",
       "0                       0          Check-Out  2015-July-1  \n",
       "1                       0          Check-Out  2015-July-1  \n",
       "2                       0          Check-Out  2015-July-1  \n",
       "3                       0          Check-Out  2015-July-1  \n",
       "4                       0          Check-Out  2015-July-1  "
      ]
     },
     "execution_count": 83,
     "metadata": {},
     "output_type": "execute_result"
    }
   ],
   "source": [
    "hotel_bookings.head()"
   ]
  },
  {
   "cell_type": "code",
   "execution_count": 84,
   "id": "1825070e",
   "metadata": {},
   "outputs": [
    {
     "data": {
      "text/plain": [
       "0            2015-July-1\n",
       "1            2015-July-1\n",
       "2            2015-July-1\n",
       "3            2015-July-1\n",
       "4            2015-July-1\n",
       "               ...      \n",
       "119385    2017-August-30\n",
       "119386    2017-August-31\n",
       "119387    2017-August-31\n",
       "119388    2017-August-31\n",
       "119389    2017-August-29\n",
       "Name: arrival_date, Length: 118902, dtype: object"
      ]
     },
     "execution_count": 84,
     "metadata": {},
     "output_type": "execute_result"
    }
   ],
   "source": [
    "hotel_bookings['arrival_date']"
   ]
  },
  {
   "cell_type": "code",
   "execution_count": null,
   "id": "aa742f0c",
   "metadata": {},
   "outputs": [],
   "source": []
  },
  {
   "cell_type": "markdown",
   "id": "79cff69f",
   "metadata": {},
   "source": [
    "# EXTRA EXPLORATION\n",
    "\n",
    "\n",
    "Try this only after you have completed the previous question\n",
    "\n",
    "This seeks to extract the various days of the week (Monday - Sunday) from the arrival dates\n",
    "\n",
    "The code has been written below for you. \n",
    "\n",
    "**NB - If you read your dataset into a variable name other than *data*, then in the code below, carefully replace *data* with that appropriate variable name**"
   ]
  },
  {
   "cell_type": "code",
   "execution_count": 85,
   "id": "b5612236",
   "metadata": {},
   "outputs": [],
   "source": [
    "from datetime import datetime\n",
    "\n",
    "#### Convert the date column which is a string to a datetime (data type for dates)\n",
    "hotel_bookings['arrival_date']=pd.to_datetime(hotel_bookings['arrival_date'])\n",
    "\n",
    "##### Create a new column and extract the various days of the week with the code below\n",
    "hotel_bookings['day_of_the_week'] = hotel_bookings['arrival_date'].dt.strftime('%A')"
   ]
  },
  {
   "cell_type": "code",
   "execution_count": 86,
   "id": "6cd347a7",
   "metadata": {},
   "outputs": [
    {
     "data": {
      "text/plain": [
       "0         Wednesday\n",
       "1         Wednesday\n",
       "2         Wednesday\n",
       "3         Wednesday\n",
       "4         Wednesday\n",
       "            ...    \n",
       "119385    Wednesday\n",
       "119386     Thursday\n",
       "119387     Thursday\n",
       "119388     Thursday\n",
       "119389      Tuesday\n",
       "Name: day_of_the_week, Length: 118902, dtype: object"
      ]
     },
     "execution_count": 86,
     "metadata": {},
     "output_type": "execute_result"
    }
   ],
   "source": [
    "hotel_bookings['day_of_the_week']"
   ]
  },
  {
   "cell_type": "code",
   "execution_count": 87,
   "id": "9c44fdd5",
   "metadata": {},
   "outputs": [
    {
     "data": {
      "text/plain": [
       "array(['Wednesday', 'Thursday', 'Friday', 'Saturday', 'Sunday', 'Monday',\n",
       "       'Tuesday'], dtype=object)"
      ]
     },
     "execution_count": 87,
     "metadata": {},
     "output_type": "execute_result"
    }
   ],
   "source": [
    "hotel_bookings['day_of_the_week'].unique()"
   ]
  },
  {
   "cell_type": "code",
   "execution_count": null,
   "id": "f12f2f02",
   "metadata": {},
   "outputs": [],
   "source": []
  },
  {
   "cell_type": "code",
   "execution_count": null,
   "id": "6dee0567",
   "metadata": {},
   "outputs": [],
   "source": []
  }
 ],
 "metadata": {
  "kernelspec": {
   "display_name": "Python 3 (ipykernel)",
   "language": "python",
   "name": "python3"
  },
  "language_info": {
   "codemirror_mode": {
    "name": "ipython",
    "version": 3
   },
   "file_extension": ".py",
   "mimetype": "text/x-python",
   "name": "python",
   "nbconvert_exporter": "python",
   "pygments_lexer": "ipython3",
   "version": "3.10.9"
  }
 },
 "nbformat": 4,
 "nbformat_minor": 5
}
